{
 "cells": [
  {
   "cell_type": "code",
   "execution_count": 1,
   "metadata": {},
   "outputs": [],
   "source": [
    "#Important necessary Lybraries\n",
    "import pandas as pd\n",
    "import numpy as np\n",
    "import matplotlib.pyplot as plt"
   ]
  },
  {
   "cell_type": "code",
   "execution_count": 2,
   "metadata": {},
   "outputs": [],
   "source": [
    "#Import e-commerce dataset\n",
    "df = pd.read_excel('C:/Users/ARNAV/Downloads/E-com_Data.XLSX')"
   ]
  },
  {
   "cell_type": "code",
   "execution_count": 3,
   "metadata": {},
   "outputs": [
    {
     "data": {
      "text/html": [
       "<div>\n",
       "<style scoped>\n",
       "    .dataframe tbody tr th:only-of-type {\n",
       "        vertical-align: middle;\n",
       "    }\n",
       "\n",
       "    .dataframe tbody tr th {\n",
       "        vertical-align: top;\n",
       "    }\n",
       "\n",
       "    .dataframe thead th {\n",
       "        text-align: right;\n",
       "    }\n",
       "</style>\n",
       "<table border=\"1\" class=\"dataframe\">\n",
       "  <thead>\n",
       "    <tr style=\"text-align: right;\">\n",
       "      <th></th>\n",
       "      <th>CustomerID</th>\n",
       "      <th>Item Code</th>\n",
       "      <th>InvoieNo</th>\n",
       "      <th>Date of purchase</th>\n",
       "      <th>Quantity</th>\n",
       "      <th>Time</th>\n",
       "      <th>price per Unit</th>\n",
       "      <th>Price</th>\n",
       "      <th>Shipping Location</th>\n",
       "      <th>Cancelled_status</th>\n",
       "      <th>Reason of return</th>\n",
       "      <th>Sold as set</th>\n",
       "    </tr>\n",
       "  </thead>\n",
       "  <tbody>\n",
       "    <tr>\n",
       "      <th>0</th>\n",
       "      <td>NaN</td>\n",
       "      <td>14256</td>\n",
       "      <td>406556</td>\n",
       "      <td>2017-12-19</td>\n",
       "      <td>2</td>\n",
       "      <td>10:03:00</td>\n",
       "      <td>355.0</td>\n",
       "      <td>710.0</td>\n",
       "      <td>Location 11</td>\n",
       "      <td>NaN</td>\n",
       "      <td>NaN</td>\n",
       "      <td>NaN</td>\n",
       "    </tr>\n",
       "    <tr>\n",
       "      <th>1</th>\n",
       "      <td>276.0</td>\n",
       "      <td>15052</td>\n",
       "      <td>406651</td>\n",
       "      <td>2017-12-19</td>\n",
       "      <td>12</td>\n",
       "      <td>12:50:00</td>\n",
       "      <td>208.0</td>\n",
       "      <td>2496.0</td>\n",
       "      <td>Location 14</td>\n",
       "      <td>NaN</td>\n",
       "      <td>NaN</td>\n",
       "      <td>NaN</td>\n",
       "    </tr>\n",
       "    <tr>\n",
       "      <th>2</th>\n",
       "      <td>3986.0</td>\n",
       "      <td>14622</td>\n",
       "      <td>406578</td>\n",
       "      <td>2017-12-19</td>\n",
       "      <td>13</td>\n",
       "      <td>11:20:00</td>\n",
       "      <td>181.0</td>\n",
       "      <td>2353.0</td>\n",
       "      <td>Location 15</td>\n",
       "      <td>NaN</td>\n",
       "      <td>NaN</td>\n",
       "      <td>NaN</td>\n",
       "    </tr>\n",
       "    <tr>\n",
       "      <th>3</th>\n",
       "      <td>3855.0</td>\n",
       "      <td>15742</td>\n",
       "      <td>406643</td>\n",
       "      <td>2017-12-19</td>\n",
       "      <td>12</td>\n",
       "      <td>12:19:00</td>\n",
       "      <td>254.0</td>\n",
       "      <td>3048.0</td>\n",
       "      <td>Location 15</td>\n",
       "      <td>NaN</td>\n",
       "      <td>NaN</td>\n",
       "      <td>NaN</td>\n",
       "    </tr>\n",
       "    <tr>\n",
       "      <th>4</th>\n",
       "      <td>NaN</td>\n",
       "      <td>15742</td>\n",
       "      <td>406556</td>\n",
       "      <td>2017-12-19</td>\n",
       "      <td>3</td>\n",
       "      <td>10:03:00</td>\n",
       "      <td>564.0</td>\n",
       "      <td>1692.0</td>\n",
       "      <td>Location 15</td>\n",
       "      <td>NaN</td>\n",
       "      <td>NaN</td>\n",
       "      <td>NaN</td>\n",
       "    </tr>\n",
       "  </tbody>\n",
       "</table>\n",
       "</div>"
      ],
      "text/plain": [
       "   CustomerID Item Code  InvoieNo Date of purchase  Quantity      Time  \\\n",
       "0         NaN     14256    406556       2017-12-19         2  10:03:00   \n",
       "1       276.0     15052    406651       2017-12-19        12  12:50:00   \n",
       "2      3986.0     14622    406578       2017-12-19        13  11:20:00   \n",
       "3      3855.0     15742    406643       2017-12-19        12  12:19:00   \n",
       "4         NaN     15742    406556       2017-12-19         3  10:03:00   \n",
       "\n",
       "   price per Unit   Price Shipping Location  Cancelled_status  \\\n",
       "0           355.0   710.0       Location 11               NaN   \n",
       "1           208.0  2496.0       Location 14               NaN   \n",
       "2           181.0  2353.0       Location 15               NaN   \n",
       "3           254.0  3048.0       Location 15               NaN   \n",
       "4           564.0  1692.0       Location 15               NaN   \n",
       "\n",
       "  Reason of return  Sold as set  \n",
       "0              NaN          NaN  \n",
       "1              NaN          NaN  \n",
       "2              NaN          NaN  \n",
       "3              NaN          NaN  \n",
       "4              NaN          NaN  "
      ]
     },
     "execution_count": 3,
     "metadata": {},
     "output_type": "execute_result"
    }
   ],
   "source": [
    "df.head()"
   ]
  },
  {
   "cell_type": "code",
   "execution_count": 4,
   "metadata": {},
   "outputs": [
    {
     "data": {
      "text/plain": [
       "(537979, 12)"
      ]
     },
     "execution_count": 4,
     "metadata": {},
     "output_type": "execute_result"
    }
   ],
   "source": [
    "df.shape"
   ]
  },
  {
   "cell_type": "code",
   "execution_count": 54,
   "metadata": {},
   "outputs": [
    {
     "ename": "AttributeError",
     "evalue": "'DataFrame' object has no attribute 'dtype'",
     "output_type": "error",
     "traceback": [
      "\u001b[1;31m---------------------------------------------------------------------------\u001b[0m",
      "\u001b[1;31mAttributeError\u001b[0m                            Traceback (most recent call last)",
      "\u001b[1;32m<ipython-input-54-144c7b0decef>\u001b[0m in \u001b[0;36m<module>\u001b[1;34m\u001b[0m\n\u001b[1;32m----> 1\u001b[1;33m \u001b[0mdf\u001b[0m\u001b[1;33m.\u001b[0m\u001b[0mdtype\u001b[0m\u001b[1;33m(\u001b[0m\u001b[1;33m)\u001b[0m\u001b[1;33m\u001b[0m\u001b[1;33m\u001b[0m\u001b[0m\n\u001b[0m",
      "\u001b[1;32m~\\anaconda3\\lib\\site-packages\\pandas\\core\\generic.py\u001b[0m in \u001b[0;36m__getattr__\u001b[1;34m(self, name)\u001b[0m\n\u001b[0;32m   5137\u001b[0m             \u001b[1;32mif\u001b[0m \u001b[0mself\u001b[0m\u001b[1;33m.\u001b[0m\u001b[0m_info_axis\u001b[0m\u001b[1;33m.\u001b[0m\u001b[0m_can_hold_identifiers_and_holds_name\u001b[0m\u001b[1;33m(\u001b[0m\u001b[0mname\u001b[0m\u001b[1;33m)\u001b[0m\u001b[1;33m:\u001b[0m\u001b[1;33m\u001b[0m\u001b[1;33m\u001b[0m\u001b[0m\n\u001b[0;32m   5138\u001b[0m                 \u001b[1;32mreturn\u001b[0m \u001b[0mself\u001b[0m\u001b[1;33m[\u001b[0m\u001b[0mname\u001b[0m\u001b[1;33m]\u001b[0m\u001b[1;33m\u001b[0m\u001b[1;33m\u001b[0m\u001b[0m\n\u001b[1;32m-> 5139\u001b[1;33m             \u001b[1;32mreturn\u001b[0m \u001b[0mobject\u001b[0m\u001b[1;33m.\u001b[0m\u001b[0m__getattribute__\u001b[0m\u001b[1;33m(\u001b[0m\u001b[0mself\u001b[0m\u001b[1;33m,\u001b[0m \u001b[0mname\u001b[0m\u001b[1;33m)\u001b[0m\u001b[1;33m\u001b[0m\u001b[1;33m\u001b[0m\u001b[0m\n\u001b[0m\u001b[0;32m   5140\u001b[0m \u001b[1;33m\u001b[0m\u001b[0m\n\u001b[0;32m   5141\u001b[0m     \u001b[1;32mdef\u001b[0m \u001b[0m__setattr__\u001b[0m\u001b[1;33m(\u001b[0m\u001b[0mself\u001b[0m\u001b[1;33m,\u001b[0m \u001b[0mname\u001b[0m\u001b[1;33m:\u001b[0m \u001b[0mstr\u001b[0m\u001b[1;33m,\u001b[0m \u001b[0mvalue\u001b[0m\u001b[1;33m)\u001b[0m \u001b[1;33m->\u001b[0m \u001b[1;32mNone\u001b[0m\u001b[1;33m:\u001b[0m\u001b[1;33m\u001b[0m\u001b[1;33m\u001b[0m\u001b[0m\n",
      "\u001b[1;31mAttributeError\u001b[0m: 'DataFrame' object has no attribute 'dtype'"
     ]
    }
   ],
   "source": [
    "df."
   ]
  },
  {
   "cell_type": "code",
   "execution_count": 5,
   "metadata": {},
   "outputs": [
    {
     "data": {
      "text/html": [
       "<div>\n",
       "<style scoped>\n",
       "    .dataframe tbody tr th:only-of-type {\n",
       "        vertical-align: middle;\n",
       "    }\n",
       "\n",
       "    .dataframe tbody tr th {\n",
       "        vertical-align: top;\n",
       "    }\n",
       "\n",
       "    .dataframe thead th {\n",
       "        text-align: right;\n",
       "    }\n",
       "</style>\n",
       "<table border=\"1\" class=\"dataframe\">\n",
       "  <thead>\n",
       "    <tr style=\"text-align: right;\">\n",
       "      <th></th>\n",
       "      <th>Shipping Location</th>\n",
       "      <th>CustomerID</th>\n",
       "    </tr>\n",
       "  </thead>\n",
       "  <tbody>\n",
       "    <tr>\n",
       "      <th>15</th>\n",
       "      <td>Location 36</td>\n",
       "      <td>4347</td>\n",
       "    </tr>\n",
       "    <tr>\n",
       "      <th>10</th>\n",
       "      <td>Location 26</td>\n",
       "      <td>1886</td>\n",
       "    </tr>\n",
       "    <tr>\n",
       "      <th>3</th>\n",
       "      <td>Location 14</td>\n",
       "      <td>1712</td>\n",
       "    </tr>\n",
       "    <tr>\n",
       "      <th>4</th>\n",
       "      <td>Location 15</td>\n",
       "      <td>1500</td>\n",
       "    </tr>\n",
       "    <tr>\n",
       "      <th>0</th>\n",
       "      <td>Location 1</td>\n",
       "      <td>1032</td>\n",
       "    </tr>\n",
       "    <tr>\n",
       "      <th>2</th>\n",
       "      <td>Location 11</td>\n",
       "      <td>976</td>\n",
       "    </tr>\n",
       "    <tr>\n",
       "      <th>16</th>\n",
       "      <td>Location 37</td>\n",
       "      <td>473</td>\n",
       "    </tr>\n",
       "    <tr>\n",
       "      <th>9</th>\n",
       "      <td>Location 25</td>\n",
       "      <td>368</td>\n",
       "    </tr>\n",
       "    <tr>\n",
       "      <th>6</th>\n",
       "      <td>Location 21</td>\n",
       "      <td>341</td>\n",
       "    </tr>\n",
       "    <tr>\n",
       "      <th>5</th>\n",
       "      <td>Location 20</td>\n",
       "      <td>252</td>\n",
       "    </tr>\n",
       "    <tr>\n",
       "      <th>17</th>\n",
       "      <td>Location 4</td>\n",
       "      <td>125</td>\n",
       "    </tr>\n",
       "    <tr>\n",
       "      <th>7</th>\n",
       "      <td>Location 23</td>\n",
       "      <td>105</td>\n",
       "    </tr>\n",
       "    <tr>\n",
       "      <th>13</th>\n",
       "      <td>Location 32</td>\n",
       "      <td>97</td>\n",
       "    </tr>\n",
       "    <tr>\n",
       "      <th>11</th>\n",
       "      <td>Location 28</td>\n",
       "      <td>84</td>\n",
       "    </tr>\n",
       "    <tr>\n",
       "      <th>19</th>\n",
       "      <td>Location 8</td>\n",
       "      <td>82</td>\n",
       "    </tr>\n",
       "    <tr>\n",
       "      <th>1</th>\n",
       "      <td>Location 10</td>\n",
       "      <td>79</td>\n",
       "    </tr>\n",
       "    <tr>\n",
       "      <th>12</th>\n",
       "      <td>Location 31</td>\n",
       "      <td>27</td>\n",
       "    </tr>\n",
       "    <tr>\n",
       "      <th>18</th>\n",
       "      <td>Location 7</td>\n",
       "      <td>14</td>\n",
       "    </tr>\n",
       "    <tr>\n",
       "      <th>8</th>\n",
       "      <td>Location 24</td>\n",
       "      <td>2</td>\n",
       "    </tr>\n",
       "    <tr>\n",
       "      <th>14</th>\n",
       "      <td>Location 34</td>\n",
       "      <td>2</td>\n",
       "    </tr>\n",
       "  </tbody>\n",
       "</table>\n",
       "</div>"
      ],
      "text/plain": [
       "   Shipping Location  CustomerID\n",
       "15       Location 36        4347\n",
       "10       Location 26        1886\n",
       "3        Location 14        1712\n",
       "4        Location 15        1500\n",
       "0         Location 1        1032\n",
       "2        Location 11         976\n",
       "16       Location 37         473\n",
       "9        Location 25         368\n",
       "6        Location 21         341\n",
       "5        Location 20         252\n",
       "17        Location 4         125\n",
       "7        Location 23         105\n",
       "13       Location 32          97\n",
       "11       Location 28          84\n",
       "19        Location 8          82\n",
       "1        Location 10          79\n",
       "12       Location 31          27\n",
       "18        Location 7          14\n",
       "8        Location 24           2\n",
       "14       Location 34           2"
      ]
     },
     "execution_count": 5,
     "metadata": {},
     "output_type": "execute_result"
    }
   ],
   "source": [
    "#Customer distribution by Shipping Location\n",
    "country_cust_data=df[['Shipping Location','CustomerID']].drop_duplicates()\n",
    "country_cust_data.groupby(['Shipping Location'])['CustomerID'].aggregate('count').reset_index().sort_values('CustomerID', ascending=False)"
   ]
  },
  {
   "cell_type": "code",
   "execution_count": 6,
   "metadata": {},
   "outputs": [
    {
     "data": {
      "text/plain": [
       "CustomerID           133790\n",
       "Item Code                 0\n",
       "InvoieNo                  0\n",
       "Date of purchase          0\n",
       "Quantity                  0\n",
       "Time                      0\n",
       "price per Unit            0\n",
       "Price                     0\n",
       "Shipping Location         0\n",
       "Cancelled_status     529634\n",
       "Reason of return     537976\n",
       "Sold as set          537979\n",
       "dtype: int64"
      ]
     },
     "execution_count": 6,
     "metadata": {},
     "output_type": "execute_result"
    }
   ],
   "source": [
    "#Check for missing values in the dataset\n",
    "df.isnull().sum(axis=0)"
   ]
  },
  {
   "cell_type": "code",
   "execution_count": 7,
   "metadata": {},
   "outputs": [],
   "source": [
    "#Remove missing values from CustomerID column, can ignore missing values in description column\n",
    "df = df[pd.notnull(df['CustomerID'])]\n"
   ]
  },
  {
   "cell_type": "code",
   "execution_count": 8,
   "metadata": {},
   "outputs": [
    {
     "name": "stdout",
     "output_type": "stream",
     "text": [
      "<class 'pandas.core.frame.DataFrame'>\n",
      "Int64Index: 404189 entries, 1 to 537949\n",
      "Data columns (total 12 columns):\n",
      " #   Column             Non-Null Count   Dtype         \n",
      "---  ------             --------------   -----         \n",
      " 0   CustomerID         404189 non-null  float64       \n",
      " 1   Item Code          404189 non-null  object        \n",
      " 2   InvoieNo           404189 non-null  int64         \n",
      " 3   Date of purchase   404189 non-null  datetime64[ns]\n",
      " 4   Quantity           404189 non-null  int64         \n",
      " 5   Time               404189 non-null  object        \n",
      " 6   price per Unit     404189 non-null  float64       \n",
      " 7   Price              404189 non-null  float64       \n",
      " 8   Shipping Location  404189 non-null  object        \n",
      " 9   Cancelled_status   8183 non-null    float64       \n",
      " 10  Reason of return   0 non-null       object        \n",
      " 11  Sold as set        0 non-null       float64       \n",
      "dtypes: datetime64[ns](1), float64(5), int64(2), object(4)\n",
      "memory usage: 40.1+ MB\n"
     ]
    }
   ],
   "source": [
    "df.info()"
   ]
  },
  {
   "cell_type": "code",
   "execution_count": 9,
   "metadata": {},
   "outputs": [
    {
     "data": {
      "text/plain": [
       "array([  12,   13,   48,    1,    3,   10,    8,   24,    4,    6,  120,\n",
       "         18,   36,    2,   25,  100,  144,   -1,   96,    5,   14,   20,\n",
       "         32,   30,   19,   16,   31,   60,   -2,   50,   40,  -10,   -5,\n",
       "         72,  -24,   42,  126,   -4,   15,   84,   -3,  -12,   64,   17,\n",
       "         -6,   66,   80,    7,   54,  -36,  288,   75,  128,    9,  150,\n",
       "        240,   38,  108,   22,   58,  192,  200,  204,  180, 1440,  -20,\n",
       "         11,  -14,  -11,  -15,   23,  324,   39,  216,   33,   21,   59,\n",
       "        -25,  -17,  408,  432,   53,  160,   35,  186,  256,  250,  -48,\n",
       "        -16,  480,   76,  388,  -38,   34,   28,  168,   -9,  360,   89,\n",
       "         27,   41,   -7, 1000,  576,   -8,   26,  140,  -18,  -72,  -42,\n",
       "        384,   29,  300,   56,   49,  -32,  -31,   78,   90,   45,   85,\n",
       "         88,  864,  252,   62,   95,  115,  400,   44,  224,   43,  -23,\n",
       "        139, -120,   63,   46,   70,  152,  500,  -40, -108,  600,   47,\n",
       "         52,  312,  156,   57,  110,  320,  -35,  456,  -13,  -80,  270,\n",
       "        504,  -21,  540,  255,  234,  244,  402,  -30,  132,  232, 1296,\n",
       "        198,  102,  109,  264,  336,  104,  -50,  162,  -66,  136,  720,\n",
       "        -76,   51,  -33,  236,  121, -100,  112,   92,  378,  468,  176,\n",
       "        125,  272,  -22,  640,  -60,  396,   67,  -26,   94,  280,  130,\n",
       "        220,   37,  114,  276,  -19,  -53,  -43,  -96, -152,  -34,  222,\n",
       "        -47,  124,   93,  494,  306,   69,  -27,   86,  151,  248,  116,\n",
       "        410,   83,  157,  -39,  350, 1008,  129,  900,   79,  960,  -28,\n",
       "       3186,  291,   87,  430,  420,  588,  188, 1600,   74,  323, 1152,\n",
       "         65,   98,  906,  246,  228,  227, 1200,  101,  -51,  273,  492,\n",
       "        -58,  392,   55,  -49, 2160,   81,  117,  407,  141,  208, 1500,\n",
       "        800,  -94,  147], dtype=int64)"
      ]
     },
     "execution_count": 9,
     "metadata": {},
     "output_type": "execute_result"
    }
   ],
   "source": [
    "df.Quantity.unique()"
   ]
  },
  {
   "cell_type": "code",
   "execution_count": 10,
   "metadata": {},
   "outputs": [
    {
     "data": {
      "text/plain": [
       "Index(['CustomerID', 'Item Code', 'InvoieNo', 'Date of purchase', 'Quantity',\n",
       "       'Time', 'price per Unit', 'Price', 'Shipping Location',\n",
       "       'Cancelled_status', 'Reason of return', 'Sold as set'],\n",
       "      dtype='object')"
      ]
     },
     "execution_count": 10,
     "metadata": {},
     "output_type": "execute_result"
    }
   ],
   "source": [
    "df.columns"
   ]
  },
  {
   "cell_type": "code",
   "execution_count": 11,
   "metadata": {},
   "outputs": [],
   "source": [
    "df=df.drop(columns=['Cancelled_status','Reason of return','Sold as set'],axis=1)"
   ]
  },
  {
   "cell_type": "code",
   "execution_count": 12,
   "metadata": {},
   "outputs": [
    {
     "data": {
      "text/html": [
       "<div>\n",
       "<style scoped>\n",
       "    .dataframe tbody tr th:only-of-type {\n",
       "        vertical-align: middle;\n",
       "    }\n",
       "\n",
       "    .dataframe tbody tr th {\n",
       "        vertical-align: top;\n",
       "    }\n",
       "\n",
       "    .dataframe thead th {\n",
       "        text-align: right;\n",
       "    }\n",
       "</style>\n",
       "<table border=\"1\" class=\"dataframe\">\n",
       "  <thead>\n",
       "    <tr style=\"text-align: right;\">\n",
       "      <th></th>\n",
       "      <th>CustomerID</th>\n",
       "      <th>Item Code</th>\n",
       "      <th>InvoieNo</th>\n",
       "      <th>Date of purchase</th>\n",
       "      <th>Quantity</th>\n",
       "      <th>Time</th>\n",
       "      <th>price per Unit</th>\n",
       "      <th>Price</th>\n",
       "      <th>Shipping Location</th>\n",
       "    </tr>\n",
       "  </thead>\n",
       "  <tbody>\n",
       "    <tr>\n",
       "      <th>1</th>\n",
       "      <td>276.0</td>\n",
       "      <td>15052</td>\n",
       "      <td>406651</td>\n",
       "      <td>2017-12-19</td>\n",
       "      <td>12</td>\n",
       "      <td>12:50:00</td>\n",
       "      <td>208.0</td>\n",
       "      <td>2496.0</td>\n",
       "      <td>Location 14</td>\n",
       "    </tr>\n",
       "    <tr>\n",
       "      <th>2</th>\n",
       "      <td>3986.0</td>\n",
       "      <td>14622</td>\n",
       "      <td>406578</td>\n",
       "      <td>2017-12-19</td>\n",
       "      <td>13</td>\n",
       "      <td>11:20:00</td>\n",
       "      <td>181.0</td>\n",
       "      <td>2353.0</td>\n",
       "      <td>Location 15</td>\n",
       "    </tr>\n",
       "    <tr>\n",
       "      <th>3</th>\n",
       "      <td>3855.0</td>\n",
       "      <td>15742</td>\n",
       "      <td>406643</td>\n",
       "      <td>2017-12-19</td>\n",
       "      <td>12</td>\n",
       "      <td>12:19:00</td>\n",
       "      <td>254.0</td>\n",
       "      <td>3048.0</td>\n",
       "      <td>Location 15</td>\n",
       "    </tr>\n",
       "    <tr>\n",
       "      <th>6</th>\n",
       "      <td>72.0</td>\n",
       "      <td>15588</td>\n",
       "      <td>406540</td>\n",
       "      <td>2017-12-19</td>\n",
       "      <td>48</td>\n",
       "      <td>08:48:00</td>\n",
       "      <td>240.0</td>\n",
       "      <td>11520.0</td>\n",
       "      <td>Location 25</td>\n",
       "    </tr>\n",
       "    <tr>\n",
       "      <th>7</th>\n",
       "      <td>1552.0</td>\n",
       "      <td>14518</td>\n",
       "      <td>406602</td>\n",
       "      <td>2017-12-19</td>\n",
       "      <td>1</td>\n",
       "      <td>11:34:00</td>\n",
       "      <td>73.0</td>\n",
       "      <td>73.0</td>\n",
       "      <td>Location 26</td>\n",
       "    </tr>\n",
       "  </tbody>\n",
       "</table>\n",
       "</div>"
      ],
      "text/plain": [
       "   CustomerID Item Code  InvoieNo Date of purchase  Quantity      Time  \\\n",
       "1       276.0     15052    406651       2017-12-19        12  12:50:00   \n",
       "2      3986.0     14622    406578       2017-12-19        13  11:20:00   \n",
       "3      3855.0     15742    406643       2017-12-19        12  12:19:00   \n",
       "6        72.0     15588    406540       2017-12-19        48  08:48:00   \n",
       "7      1552.0     14518    406602       2017-12-19         1  11:34:00   \n",
       "\n",
       "   price per Unit    Price Shipping Location  \n",
       "1           208.0   2496.0       Location 14  \n",
       "2           181.0   2353.0       Location 15  \n",
       "3           254.0   3048.0       Location 15  \n",
       "6           240.0  11520.0       Location 25  \n",
       "7            73.0     73.0       Location 26  "
      ]
     },
     "execution_count": 12,
     "metadata": {},
     "output_type": "execute_result"
    }
   ],
   "source": [
    "df.head()"
   ]
  },
  {
   "cell_type": "code",
   "execution_count": 13,
   "metadata": {},
   "outputs": [
    {
     "data": {
      "text/plain": [
       "CustomerID           0\n",
       "Item Code            0\n",
       "InvoieNo             0\n",
       "Date of purchase     0\n",
       "Quantity             0\n",
       "Time                 0\n",
       "price per Unit       0\n",
       "Price                0\n",
       "Shipping Location    0\n",
       "dtype: int64"
      ]
     },
     "execution_count": 13,
     "metadata": {},
     "output_type": "execute_result"
    }
   ],
   "source": [
    "df.isnull().sum(axis=0)"
   ]
  },
  {
   "cell_type": "code",
   "execution_count": 14,
   "metadata": {},
   "outputs": [],
   "source": [
    "#Filter out records with negative values\n",
    "df = df[(df['Quantity']>0)]"
   ]
  },
  {
   "cell_type": "code",
   "execution_count": 15,
   "metadata": {},
   "outputs": [
    {
     "name": "stdout",
     "output_type": "stream",
     "text": [
      "<class 'pandas.core.frame.DataFrame'>\n",
      "Int64Index: 396006 entries, 1 to 537949\n",
      "Data columns (total 9 columns):\n",
      " #   Column             Non-Null Count   Dtype         \n",
      "---  ------             --------------   -----         \n",
      " 0   CustomerID         396006 non-null  float64       \n",
      " 1   Item Code          396006 non-null  object        \n",
      " 2   InvoieNo           396006 non-null  int64         \n",
      " 3   Date of purchase   396006 non-null  datetime64[ns]\n",
      " 4   Quantity           396006 non-null  int64         \n",
      " 5   Time               396006 non-null  object        \n",
      " 6   price per Unit     396006 non-null  float64       \n",
      " 7   Price              396006 non-null  float64       \n",
      " 8   Shipping Location  396006 non-null  object        \n",
      "dtypes: datetime64[ns](1), float64(3), int64(2), object(3)\n",
      "memory usage: 30.2+ MB\n"
     ]
    }
   ],
   "source": [
    "df.info()"
   ]
  },
  {
   "cell_type": "code",
   "execution_count": 16,
   "metadata": {},
   "outputs": [
    {
     "data": {
      "text/plain": [
       "array([datetime.time(12, 50), datetime.time(11, 20),\n",
       "       datetime.time(12, 19), datetime.time(8, 48), datetime.time(11, 34),\n",
       "       datetime.time(17, 48), datetime.time(9, 7), datetime.time(8, 59),\n",
       "       datetime.time(9, 38), datetime.time(11, 56), datetime.time(10, 20),\n",
       "       datetime.time(10, 51), datetime.time(9, 44), datetime.time(12, 0),\n",
       "       datetime.time(11, 26), datetime.time(12, 23),\n",
       "       datetime.time(12, 49), datetime.time(8, 39), datetime.time(10, 46),\n",
       "       datetime.time(12, 20), datetime.time(12, 16), datetime.time(11, 8),\n",
       "       datetime.time(18, 8), datetime.time(11, 59), datetime.time(12, 9),\n",
       "       datetime.time(10, 13), datetime.time(12, 35),\n",
       "       datetime.time(11, 35), datetime.time(15, 50), datetime.time(18, 9),\n",
       "       datetime.time(19, 18), datetime.time(11, 11),\n",
       "       datetime.time(13, 21), datetime.time(15, 54),\n",
       "       datetime.time(15, 13), datetime.time(12, 7), datetime.time(14, 51),\n",
       "       datetime.time(13, 26), datetime.time(14, 40),\n",
       "       datetime.time(14, 41), datetime.time(15, 9), datetime.time(15, 31),\n",
       "       datetime.time(11, 1), datetime.time(15, 41), datetime.time(19, 24),\n",
       "       datetime.time(17, 57), datetime.time(17, 54),\n",
       "       datetime.time(18, 15), datetime.time(14, 39),\n",
       "       datetime.time(12, 43), datetime.time(12, 26),\n",
       "       datetime.time(19, 28), datetime.time(13, 47), datetime.time(15, 8),\n",
       "       datetime.time(13, 50), datetime.time(16, 58),\n",
       "       datetime.time(16, 36), datetime.time(11, 2), datetime.time(11, 36),\n",
       "       datetime.time(9, 55), datetime.time(18, 3), datetime.time(13, 25),\n",
       "       datetime.time(13, 43), datetime.time(9, 47), datetime.time(14, 15),\n",
       "       datetime.time(18, 42), datetime.time(13, 27),\n",
       "       datetime.time(12, 31), datetime.time(16, 18), datetime.time(15, 2),\n",
       "       datetime.time(17, 12), datetime.time(12, 15),\n",
       "       datetime.time(12, 54), datetime.time(13, 18),\n",
       "       datetime.time(11, 47), datetime.time(11, 15), datetime.time(12, 8),\n",
       "       datetime.time(15, 24), datetime.time(9, 6), datetime.time(8, 42),\n",
       "       datetime.time(11, 43), datetime.time(12, 10),\n",
       "       datetime.time(15, 23), datetime.time(11, 53),\n",
       "       datetime.time(19, 55), datetime.time(10, 58), datetime.time(15, 3),\n",
       "       datetime.time(10, 59), datetime.time(10, 40), datetime.time(13, 4),\n",
       "       datetime.time(9, 46), datetime.time(17, 24), datetime.time(9, 58),\n",
       "       datetime.time(19, 29), datetime.time(10, 29),\n",
       "       datetime.time(15, 39), datetime.time(13, 45),\n",
       "       datetime.time(16, 22), datetime.time(14, 38),\n",
       "       datetime.time(15, 18), datetime.time(10, 19),\n",
       "       datetime.time(10, 26), datetime.time(10, 24), datetime.time(8, 32),\n",
       "       datetime.time(9, 23), datetime.time(11, 38), datetime.time(13, 36),\n",
       "       datetime.time(9, 39), datetime.time(15, 36), datetime.time(16, 29),\n",
       "       datetime.time(12, 57), datetime.time(19, 4), datetime.time(13, 46),\n",
       "       datetime.time(12, 29), datetime.time(13, 32),\n",
       "       datetime.time(13, 59), datetime.time(14, 14), datetime.time(11, 6),\n",
       "       datetime.time(14, 8), datetime.time(19, 57), datetime.time(14, 43),\n",
       "       datetime.time(14, 46), datetime.time(11, 25),\n",
       "       datetime.time(10, 38), datetime.time(10, 41),\n",
       "       datetime.time(13, 14), datetime.time(16, 32), datetime.time(12, 6),\n",
       "       datetime.time(13, 3), datetime.time(14, 11), datetime.time(17, 34),\n",
       "       datetime.time(15, 35), datetime.time(13, 53),\n",
       "       datetime.time(11, 42), datetime.time(13, 17), datetime.time(8, 38),\n",
       "       datetime.time(12, 41), datetime.time(16, 44), datetime.time(8, 3),\n",
       "       datetime.time(11, 16), datetime.time(14, 12),\n",
       "       datetime.time(15, 19), datetime.time(18, 43), datetime.time(15, 7),\n",
       "       datetime.time(10, 36), datetime.time(12, 36),\n",
       "       datetime.time(11, 48), datetime.time(12, 28),\n",
       "       datetime.time(16, 47), datetime.time(13, 0), datetime.time(12, 55),\n",
       "       datetime.time(10, 12), datetime.time(9, 18), datetime.time(14, 31),\n",
       "       datetime.time(13, 34), datetime.time(16, 56),\n",
       "       datetime.time(12, 30), datetime.time(13, 16),\n",
       "       datetime.time(12, 21), datetime.time(15, 37), datetime.time(13, 5),\n",
       "       datetime.time(17, 5), datetime.time(10, 43), datetime.time(10, 48),\n",
       "       datetime.time(9, 32), datetime.time(14, 52), datetime.time(12, 17),\n",
       "       datetime.time(15, 47), datetime.time(14, 1), datetime.time(12, 51),\n",
       "       datetime.time(13, 12), datetime.time(10, 53),\n",
       "       datetime.time(14, 45), datetime.time(15, 44),\n",
       "       datetime.time(12, 34), datetime.time(11, 27),\n",
       "       datetime.time(16, 10), datetime.time(12, 48),\n",
       "       datetime.time(16, 53), datetime.time(17, 17),\n",
       "       datetime.time(13, 22), datetime.time(18, 22), datetime.time(8, 45),\n",
       "       datetime.time(10, 57), datetime.time(15, 40),\n",
       "       datetime.time(14, 55), datetime.time(13, 23),\n",
       "       datetime.time(10, 11), datetime.time(8, 21), datetime.time(15, 16),\n",
       "       datetime.time(14, 58), datetime.time(10, 4), datetime.time(11, 49),\n",
       "       datetime.time(13, 55), datetime.time(9, 22), datetime.time(14, 34),\n",
       "       datetime.time(13, 38), datetime.time(15, 55),\n",
       "       datetime.time(12, 44), datetime.time(13, 35), datetime.time(9, 35),\n",
       "       datetime.time(15, 29), datetime.time(12, 25), datetime.time(15, 0),\n",
       "       datetime.time(12, 11), datetime.time(16, 38),\n",
       "       datetime.time(10, 39), datetime.time(10, 33), datetime.time(9, 5),\n",
       "       datetime.time(13, 11), datetime.time(11, 12),\n",
       "       datetime.time(12, 38), datetime.time(15, 1), datetime.time(17, 25),\n",
       "       datetime.time(12, 33), datetime.time(10, 25),\n",
       "       datetime.time(15, 56), datetime.time(20, 1), datetime.time(8, 7),\n",
       "       datetime.time(15, 43), datetime.time(10, 10), datetime.time(14, 4),\n",
       "       datetime.time(11, 29), datetime.time(11, 30),\n",
       "       datetime.time(15, 46), datetime.time(13, 33),\n",
       "       datetime.time(14, 33), datetime.time(13, 54),\n",
       "       datetime.time(12, 32), datetime.time(13, 31), datetime.time(16, 0),\n",
       "       datetime.time(14, 23), datetime.time(11, 41), datetime.time(17, 4),\n",
       "       datetime.time(12, 18), datetime.time(17, 18), datetime.time(9, 56),\n",
       "       datetime.time(17, 37), datetime.time(17, 23), datetime.time(10, 0),\n",
       "       datetime.time(9, 2), datetime.time(12, 2), datetime.time(13, 42),\n",
       "       datetime.time(16, 41), datetime.time(18, 25),\n",
       "       datetime.time(11, 51), datetime.time(11, 58),\n",
       "       datetime.time(11, 33), datetime.time(17, 49),\n",
       "       datetime.time(16, 21), datetime.time(12, 24),\n",
       "       datetime.time(15, 22), datetime.time(16, 11),\n",
       "       datetime.time(10, 30), datetime.time(19, 32),\n",
       "       datetime.time(16, 33), datetime.time(14, 30),\n",
       "       datetime.time(17, 26), datetime.time(11, 7), datetime.time(8, 37),\n",
       "       datetime.time(11, 3), datetime.time(10, 45), datetime.time(14, 54),\n",
       "       datetime.time(16, 54), datetime.time(15, 32),\n",
       "       datetime.time(11, 21), datetime.time(8, 41), datetime.time(12, 45),\n",
       "       datetime.time(13, 20), datetime.time(16, 2), datetime.time(14, 13),\n",
       "       datetime.time(11, 24), datetime.time(14, 59),\n",
       "       datetime.time(14, 35), datetime.time(14, 50),\n",
       "       datetime.time(12, 59), datetime.time(15, 10), datetime.time(12, 5),\n",
       "       datetime.time(11, 28), datetime.time(14, 49),\n",
       "       datetime.time(12, 56), datetime.time(11, 5), datetime.time(13, 30),\n",
       "       datetime.time(11, 39), datetime.time(15, 17), datetime.time(9, 53),\n",
       "       datetime.time(13, 44), datetime.time(12, 12),\n",
       "       datetime.time(12, 27), datetime.time(15, 51), datetime.time(10, 9),\n",
       "       datetime.time(10, 28), datetime.time(9, 51), datetime.time(13, 13),\n",
       "       datetime.time(17, 22), datetime.time(18, 51),\n",
       "       datetime.time(14, 53), datetime.time(13, 29),\n",
       "       datetime.time(15, 12), datetime.time(11, 57),\n",
       "       datetime.time(10, 55), datetime.time(8, 46), datetime.time(8, 55),\n",
       "       datetime.time(13, 9), datetime.time(16, 34), datetime.time(16, 24),\n",
       "       datetime.time(14, 22), datetime.time(10, 8), datetime.time(15, 52),\n",
       "       datetime.time(9, 24), datetime.time(12, 58), datetime.time(10, 3),\n",
       "       datetime.time(14, 10), datetime.time(14, 57),\n",
       "       datetime.time(14, 29), datetime.time(13, 2), datetime.time(14, 6),\n",
       "       datetime.time(14, 25), datetime.time(9, 11), datetime.time(13, 37),\n",
       "       datetime.time(12, 46), datetime.time(10, 6), datetime.time(9, 3),\n",
       "       datetime.time(14, 26), datetime.time(16, 4), datetime.time(8, 52),\n",
       "       datetime.time(9, 45), datetime.time(17, 36), datetime.time(13, 52),\n",
       "       datetime.time(13, 10), datetime.time(12, 13),\n",
       "       datetime.time(11, 31), datetime.time(13, 49),\n",
       "       datetime.time(15, 38), datetime.time(16, 5), datetime.time(17, 13),\n",
       "       datetime.time(17, 9), datetime.time(15, 59), datetime.time(13, 40),\n",
       "       datetime.time(16, 6), datetime.time(12, 14), datetime.time(11, 19),\n",
       "       datetime.time(16, 57), datetime.time(10, 21), datetime.time(9, 15),\n",
       "       datetime.time(14, 3), datetime.time(12, 40), datetime.time(14, 19),\n",
       "       datetime.time(10, 18), datetime.time(12, 3), datetime.time(16, 55),\n",
       "       datetime.time(16, 52), datetime.time(14, 47), datetime.time(15, 6),\n",
       "       datetime.time(17, 16), datetime.time(14, 56),\n",
       "       datetime.time(13, 57), datetime.time(17, 6), datetime.time(15, 48),\n",
       "       datetime.time(16, 39), datetime.time(10, 27), datetime.time(9, 31),\n",
       "       datetime.time(8, 49), datetime.time(13, 48), datetime.time(15, 15),\n",
       "       datetime.time(16, 3), datetime.time(12, 52), datetime.time(16, 37),\n",
       "       datetime.time(11, 13), datetime.time(13, 39), datetime.time(9, 16),\n",
       "       datetime.time(16, 28), datetime.time(10, 14),\n",
       "       datetime.time(13, 15), datetime.time(13, 1), datetime.time(7, 49),\n",
       "       datetime.time(12, 42), datetime.time(16, 45),\n",
       "       datetime.time(13, 58), datetime.time(15, 34),\n",
       "       datetime.time(16, 50), datetime.time(19, 51), datetime.time(14, 5),\n",
       "       datetime.time(13, 6), datetime.time(14, 24), datetime.time(13, 19),\n",
       "       datetime.time(15, 5), datetime.time(9, 40), datetime.time(11, 17),\n",
       "       datetime.time(14, 9), datetime.time(10, 56), datetime.time(11, 50),\n",
       "       datetime.time(14, 21), datetime.time(15, 14), datetime.time(9, 8),\n",
       "       datetime.time(9, 0), datetime.time(10, 17), datetime.time(9, 29),\n",
       "       datetime.time(12, 22), datetime.time(15, 21), datetime.time(9, 4),\n",
       "       datetime.time(11, 0), datetime.time(15, 28), datetime.time(16, 35),\n",
       "       datetime.time(11, 32), datetime.time(16, 23), datetime.time(12, 1),\n",
       "       datetime.time(11, 55), datetime.time(11, 45),\n",
       "       datetime.time(10, 35), datetime.time(16, 7), datetime.time(16, 48),\n",
       "       datetime.time(16, 25), datetime.time(16, 42),\n",
       "       datetime.time(13, 24), datetime.time(16, 20),\n",
       "       datetime.time(17, 14), datetime.time(17, 27), datetime.time(14, 2),\n",
       "       datetime.time(10, 32), datetime.time(16, 15), datetime.time(9, 48),\n",
       "       datetime.time(14, 27), datetime.time(16, 26),\n",
       "       datetime.time(10, 54), datetime.time(10, 42), datetime.time(9, 34),\n",
       "       datetime.time(15, 25), datetime.time(11, 37),\n",
       "       datetime.time(14, 36), datetime.time(17, 28),\n",
       "       datetime.time(14, 42), datetime.time(15, 45),\n",
       "       datetime.time(13, 28), datetime.time(13, 8), datetime.time(10, 22),\n",
       "       datetime.time(9, 9), datetime.time(10, 23), datetime.time(14, 48),\n",
       "       datetime.time(10, 7), datetime.time(16, 46), datetime.time(12, 4),\n",
       "       datetime.time(16, 8), datetime.time(9, 41), datetime.time(9, 19),\n",
       "       datetime.time(10, 16), datetime.time(15, 20),\n",
       "       datetime.time(10, 49), datetime.time(16, 14),\n",
       "       datetime.time(12, 47), datetime.time(15, 11),\n",
       "       datetime.time(16, 30), datetime.time(9, 30), datetime.time(16, 12),\n",
       "       datetime.time(11, 10), datetime.time(10, 52),\n",
       "       datetime.time(19, 22), datetime.time(18, 58),\n",
       "       datetime.time(10, 47), datetime.time(11, 44),\n",
       "       datetime.time(12, 37), datetime.time(15, 26),\n",
       "       datetime.time(19, 42), datetime.time(13, 51),\n",
       "       datetime.time(11, 23), datetime.time(15, 58),\n",
       "       datetime.time(13, 56), datetime.time(17, 56),\n",
       "       datetime.time(19, 54), datetime.time(11, 46), datetime.time(18, 7),\n",
       "       datetime.time(14, 37), datetime.time(14, 18),\n",
       "       datetime.time(10, 31), datetime.time(10, 44), datetime.time(8, 34),\n",
       "       datetime.time(18, 16), datetime.time(8, 33), datetime.time(9, 20),\n",
       "       datetime.time(17, 21), datetime.time(19, 33),\n",
       "       datetime.time(17, 20), datetime.time(14, 32),\n",
       "       datetime.time(14, 17), datetime.time(14, 44),\n",
       "       datetime.time(12, 53), datetime.time(10, 37),\n",
       "       datetime.time(11, 52), datetime.time(16, 49), datetime.time(8, 43),\n",
       "       datetime.time(16, 19), datetime.time(14, 28), datetime.time(9, 37),\n",
       "       datetime.time(16, 9), datetime.time(8, 17), datetime.time(16, 31),\n",
       "       datetime.time(8, 8), datetime.time(16, 43), datetime.time(9, 50),\n",
       "       datetime.time(8, 58), datetime.time(8, 23), datetime.time(17, 51),\n",
       "       datetime.time(14, 0), datetime.time(10, 15), datetime.time(15, 42),\n",
       "       datetime.time(8, 4), datetime.time(15, 27), datetime.time(9, 33),\n",
       "       datetime.time(11, 18), datetime.time(12, 39),\n",
       "       datetime.time(15, 53), datetime.time(14, 16), datetime.time(17, 7),\n",
       "       datetime.time(8, 35), datetime.time(8, 50), datetime.time(10, 2),\n",
       "       datetime.time(17, 52), datetime.time(18, 14),\n",
       "       datetime.time(11, 40), datetime.time(11, 54), datetime.time(9, 42),\n",
       "       datetime.time(14, 20), datetime.time(9, 49), datetime.time(11, 22),\n",
       "       datetime.time(15, 30), datetime.time(16, 16), datetime.time(10, 1),\n",
       "       datetime.time(9, 10), datetime.time(18, 5), datetime.time(18, 2),\n",
       "       datetime.time(17, 30), datetime.time(17, 29), datetime.time(8, 14),\n",
       "       datetime.time(8, 40), datetime.time(9, 43), datetime.time(8, 44),\n",
       "       datetime.time(16, 27), datetime.time(13, 41),\n",
       "       datetime.time(18, 38), datetime.time(16, 17),\n",
       "       datetime.time(18, 46), datetime.time(18, 45), datetime.time(9, 13),\n",
       "       datetime.time(17, 1), datetime.time(9, 14), datetime.time(10, 34),\n",
       "       datetime.time(16, 1), datetime.time(19, 19), datetime.time(19, 59),\n",
       "       datetime.time(11, 14), datetime.time(9, 27), datetime.time(17, 43),\n",
       "       datetime.time(9, 21), datetime.time(16, 13), datetime.time(9, 36),\n",
       "       datetime.time(9, 52), datetime.time(8, 57), datetime.time(8, 12),\n",
       "       datetime.time(19, 9), datetime.time(17, 10), datetime.time(16, 59),\n",
       "       datetime.time(16, 40), datetime.time(16, 51), datetime.time(17, 2),\n",
       "       datetime.time(19, 7), datetime.time(19, 30), datetime.time(9, 59),\n",
       "       datetime.time(18, 13), datetime.time(17, 11), datetime.time(9, 54),\n",
       "       datetime.time(18, 23), datetime.time(9, 28), datetime.time(17, 45),\n",
       "       datetime.time(14, 7), datetime.time(17, 32), datetime.time(9, 12),\n",
       "       datetime.time(17, 19), datetime.time(8, 53), datetime.time(11, 9),\n",
       "       datetime.time(8, 5), datetime.time(10, 5), datetime.time(11, 4),\n",
       "       datetime.time(13, 7), datetime.time(8, 28), datetime.time(9, 17),\n",
       "       datetime.time(8, 56), datetime.time(8, 54), datetime.time(15, 4),\n",
       "       datetime.time(8, 26), datetime.time(15, 49), datetime.time(17, 3),\n",
       "       datetime.time(8, 19), datetime.time(8, 31), datetime.time(17, 33),\n",
       "       datetime.time(15, 57), datetime.time(17, 0), datetime.time(17, 15),\n",
       "       datetime.time(15, 33), datetime.time(8, 47), datetime.time(17, 35),\n",
       "       datetime.time(9, 57), datetime.time(8, 20), datetime.time(19, 48),\n",
       "       datetime.time(8, 2), datetime.time(19, 27), datetime.time(9, 1),\n",
       "       datetime.time(17, 50), datetime.time(17, 53),\n",
       "       datetime.time(18, 29), datetime.time(8, 29), datetime.time(9, 25),\n",
       "       datetime.time(19, 52), datetime.time(8, 25), datetime.time(17, 8),\n",
       "       datetime.time(9, 26), datetime.time(10, 50), datetime.time(8, 16),\n",
       "       datetime.time(17, 40), datetime.time(8, 22), datetime.time(8, 0),\n",
       "       datetime.time(19, 58), datetime.time(8, 10), datetime.time(17, 38),\n",
       "       datetime.time(19, 12), datetime.time(19, 40),\n",
       "       datetime.time(19, 53), datetime.time(18, 33),\n",
       "       datetime.time(18, 37), datetime.time(17, 46),\n",
       "       datetime.time(19, 49), datetime.time(17, 47), datetime.time(8, 6),\n",
       "       datetime.time(18, 4), datetime.time(17, 44), datetime.time(8, 11),\n",
       "       datetime.time(8, 36), datetime.time(7, 52), datetime.time(7, 38),\n",
       "       datetime.time(8, 18), datetime.time(8, 27), datetime.time(8, 30),\n",
       "       datetime.time(17, 42), datetime.time(17, 39),\n",
       "       datetime.time(18, 49), datetime.time(19, 50),\n",
       "       datetime.time(19, 15), datetime.time(8, 24), datetime.time(7, 39),\n",
       "       datetime.time(20, 7), datetime.time(20, 9), datetime.time(20, 16),\n",
       "       datetime.time(19, 17), datetime.time(19, 56), datetime.time(8, 51),\n",
       "       datetime.time(17, 31), datetime.time(18, 10), datetime.time(7, 56),\n",
       "       datetime.time(8, 15), datetime.time(17, 41), datetime.time(7, 43),\n",
       "       datetime.time(18, 56), datetime.time(18, 47),\n",
       "       datetime.time(18, 27), datetime.time(7, 36), datetime.time(18, 30),\n",
       "       datetime.time(18, 53), datetime.time(18, 18), datetime.time(19, 3),\n",
       "       datetime.time(7, 35), datetime.time(18, 24), datetime.time(19, 36),\n",
       "       datetime.time(17, 58), datetime.time(18, 1), datetime.time(19, 34),\n",
       "       datetime.time(19, 8), datetime.time(19, 11), datetime.time(18, 20),\n",
       "       datetime.time(18, 54), datetime.time(19, 45),\n",
       "       datetime.time(19, 39), datetime.time(19, 16), datetime.time(8, 9),\n",
       "       datetime.time(20, 5), datetime.time(19, 13), datetime.time(18, 11),\n",
       "       datetime.time(18, 21), datetime.time(20, 2), datetime.time(6, 20),\n",
       "       datetime.time(8, 13), datetime.time(19, 23), datetime.time(17, 55),\n",
       "       datetime.time(18, 44), datetime.time(18, 6), datetime.time(18, 31),\n",
       "       datetime.time(19, 20), datetime.time(19, 46), datetime.time(19, 6),\n",
       "       datetime.time(18, 0), datetime.time(18, 36), datetime.time(18, 19),\n",
       "       datetime.time(18, 28), datetime.time(19, 14),\n",
       "       datetime.time(18, 17), datetime.time(20, 8), datetime.time(17, 59),\n",
       "       datetime.time(18, 59), datetime.time(19, 21),\n",
       "       datetime.time(18, 40), datetime.time(7, 58), datetime.time(20, 3),\n",
       "       datetime.time(18, 41), datetime.time(7, 53), datetime.time(7, 48),\n",
       "       datetime.time(7, 37), datetime.time(19, 26), datetime.time(19, 2),\n",
       "       datetime.time(19, 47), datetime.time(19, 0), datetime.time(19, 38),\n",
       "       datetime.time(20, 13), datetime.time(19, 10), datetime.time(19, 1),\n",
       "       datetime.time(18, 55), datetime.time(19, 44),\n",
       "       datetime.time(19, 37), datetime.time(20, 0), datetime.time(19, 5),\n",
       "       datetime.time(18, 57), datetime.time(19, 31),\n",
       "       datetime.time(18, 34), datetime.time(20, 12),\n",
       "       datetime.time(20, 18), datetime.time(7, 40), datetime.time(7, 42),\n",
       "       datetime.time(18, 26), datetime.time(7, 51), datetime.time(7, 57)],\n",
       "      dtype=object)"
      ]
     },
     "execution_count": 16,
     "metadata": {},
     "output_type": "execute_result"
    }
   ],
   "source": [
    "df.Time.unique()"
   ]
  },
  {
   "cell_type": "code",
   "execution_count": 17,
   "metadata": {},
   "outputs": [],
   "source": [
    "#Add new column depicting total amount\n",
    "df['TotalAmount'] = df['Quantity'] * df['price per Unit']"
   ]
  },
  {
   "cell_type": "code",
   "execution_count": 18,
   "metadata": {},
   "outputs": [
    {
     "data": {
      "text/html": [
       "<div>\n",
       "<style scoped>\n",
       "    .dataframe tbody tr th:only-of-type {\n",
       "        vertical-align: middle;\n",
       "    }\n",
       "\n",
       "    .dataframe tbody tr th {\n",
       "        vertical-align: top;\n",
       "    }\n",
       "\n",
       "    .dataframe thead th {\n",
       "        text-align: right;\n",
       "    }\n",
       "</style>\n",
       "<table border=\"1\" class=\"dataframe\">\n",
       "  <thead>\n",
       "    <tr style=\"text-align: right;\">\n",
       "      <th></th>\n",
       "      <th>CustomerID</th>\n",
       "      <th>Item Code</th>\n",
       "      <th>InvoieNo</th>\n",
       "      <th>Date of purchase</th>\n",
       "      <th>Quantity</th>\n",
       "      <th>Time</th>\n",
       "      <th>price per Unit</th>\n",
       "      <th>Price</th>\n",
       "      <th>Shipping Location</th>\n",
       "      <th>TotalAmount</th>\n",
       "    </tr>\n",
       "  </thead>\n",
       "  <tbody>\n",
       "    <tr>\n",
       "      <th>1</th>\n",
       "      <td>276.0</td>\n",
       "      <td>15052</td>\n",
       "      <td>406651</td>\n",
       "      <td>2017-12-19</td>\n",
       "      <td>12</td>\n",
       "      <td>12:50:00</td>\n",
       "      <td>208.0</td>\n",
       "      <td>2496.0</td>\n",
       "      <td>Location 14</td>\n",
       "      <td>2496.0</td>\n",
       "    </tr>\n",
       "    <tr>\n",
       "      <th>2</th>\n",
       "      <td>3986.0</td>\n",
       "      <td>14622</td>\n",
       "      <td>406578</td>\n",
       "      <td>2017-12-19</td>\n",
       "      <td>13</td>\n",
       "      <td>11:20:00</td>\n",
       "      <td>181.0</td>\n",
       "      <td>2353.0</td>\n",
       "      <td>Location 15</td>\n",
       "      <td>2353.0</td>\n",
       "    </tr>\n",
       "    <tr>\n",
       "      <th>3</th>\n",
       "      <td>3855.0</td>\n",
       "      <td>15742</td>\n",
       "      <td>406643</td>\n",
       "      <td>2017-12-19</td>\n",
       "      <td>12</td>\n",
       "      <td>12:19:00</td>\n",
       "      <td>254.0</td>\n",
       "      <td>3048.0</td>\n",
       "      <td>Location 15</td>\n",
       "      <td>3048.0</td>\n",
       "    </tr>\n",
       "    <tr>\n",
       "      <th>6</th>\n",
       "      <td>72.0</td>\n",
       "      <td>15588</td>\n",
       "      <td>406540</td>\n",
       "      <td>2017-12-19</td>\n",
       "      <td>48</td>\n",
       "      <td>08:48:00</td>\n",
       "      <td>240.0</td>\n",
       "      <td>11520.0</td>\n",
       "      <td>Location 25</td>\n",
       "      <td>11520.0</td>\n",
       "    </tr>\n",
       "    <tr>\n",
       "      <th>7</th>\n",
       "      <td>1552.0</td>\n",
       "      <td>14518</td>\n",
       "      <td>406602</td>\n",
       "      <td>2017-12-19</td>\n",
       "      <td>1</td>\n",
       "      <td>11:34:00</td>\n",
       "      <td>73.0</td>\n",
       "      <td>73.0</td>\n",
       "      <td>Location 26</td>\n",
       "      <td>73.0</td>\n",
       "    </tr>\n",
       "  </tbody>\n",
       "</table>\n",
       "</div>"
      ],
      "text/plain": [
       "   CustomerID Item Code  InvoieNo Date of purchase  Quantity      Time  \\\n",
       "1       276.0     15052    406651       2017-12-19        12  12:50:00   \n",
       "2      3986.0     14622    406578       2017-12-19        13  11:20:00   \n",
       "3      3855.0     15742    406643       2017-12-19        12  12:19:00   \n",
       "6        72.0     15588    406540       2017-12-19        48  08:48:00   \n",
       "7      1552.0     14518    406602       2017-12-19         1  11:34:00   \n",
       "\n",
       "   price per Unit    Price Shipping Location  TotalAmount  \n",
       "1           208.0   2496.0       Location 14       2496.0  \n",
       "2           181.0   2353.0       Location 15       2353.0  \n",
       "3           254.0   3048.0       Location 15       3048.0  \n",
       "6           240.0  11520.0       Location 25      11520.0  \n",
       "7            73.0     73.0       Location 26         73.0  "
      ]
     },
     "execution_count": 18,
     "metadata": {},
     "output_type": "execute_result"
    }
   ],
   "source": [
    "df.head()"
   ]
  },
  {
   "cell_type": "code",
   "execution_count": 19,
   "metadata": {},
   "outputs": [
    {
     "data": {
      "text/plain": [
       "(396006, 10)"
      ]
     },
     "execution_count": 19,
     "metadata": {},
     "output_type": "execute_result"
    }
   ],
   "source": [
    "df.shape"
   ]
  },
  {
   "cell_type": "code",
   "execution_count": 20,
   "metadata": {},
   "outputs": [
    {
     "data": {
      "text/html": [
       "<div>\n",
       "<style scoped>\n",
       "    .dataframe tbody tr th:only-of-type {\n",
       "        vertical-align: middle;\n",
       "    }\n",
       "\n",
       "    .dataframe tbody tr th {\n",
       "        vertical-align: top;\n",
       "    }\n",
       "\n",
       "    .dataframe thead th {\n",
       "        text-align: right;\n",
       "    }\n",
       "</style>\n",
       "<table border=\"1\" class=\"dataframe\">\n",
       "  <thead>\n",
       "    <tr style=\"text-align: right;\">\n",
       "      <th></th>\n",
       "      <th>CustomerID</th>\n",
       "      <th>TotalAmount</th>\n",
       "    </tr>\n",
       "  </thead>\n",
       "  <tbody>\n",
       "    <tr>\n",
       "      <th>0</th>\n",
       "      <td>2.0</td>\n",
       "      <td>553704.0</td>\n",
       "    </tr>\n",
       "    <tr>\n",
       "      <th>1</th>\n",
       "      <td>3.0</td>\n",
       "      <td>257404.0</td>\n",
       "    </tr>\n",
       "    <tr>\n",
       "      <th>2</th>\n",
       "      <td>4.0</td>\n",
       "      <td>176613.0</td>\n",
       "    </tr>\n",
       "    <tr>\n",
       "      <th>3</th>\n",
       "      <td>5.0</td>\n",
       "      <td>41976.0</td>\n",
       "    </tr>\n",
       "    <tr>\n",
       "      <th>4</th>\n",
       "      <td>6.0</td>\n",
       "      <td>166972.0</td>\n",
       "    </tr>\n",
       "  </tbody>\n",
       "</table>\n",
       "</div>"
      ],
      "text/plain": [
       "   CustomerID  TotalAmount\n",
       "0         2.0     553704.0\n",
       "1         3.0     257404.0\n",
       "2         4.0     176613.0\n",
       "3         5.0      41976.0\n",
       "4         6.0     166972.0"
      ]
     },
     "execution_count": 20,
     "metadata": {},
     "output_type": "execute_result"
    }
   ],
   "source": [
    "revenue_contributed = df.groupby('CustomerID')['TotalAmount'].sum()\n",
    "revenue_contributed = revenue_contributed.reset_index()\n",
    "revenue_contributed.head()"
   ]
  },
  {
   "cell_type": "code",
   "execution_count": 21,
   "metadata": {},
   "outputs": [
    {
     "data": {
      "text/html": [
       "<div>\n",
       "<style scoped>\n",
       "    .dataframe tbody tr th:only-of-type {\n",
       "        vertical-align: middle;\n",
       "    }\n",
       "\n",
       "    .dataframe tbody tr th {\n",
       "        vertical-align: top;\n",
       "    }\n",
       "\n",
       "    .dataframe thead th {\n",
       "        text-align: right;\n",
       "    }\n",
       "</style>\n",
       "<table border=\"1\" class=\"dataframe\">\n",
       "  <thead>\n",
       "    <tr style=\"text-align: right;\">\n",
       "      <th></th>\n",
       "      <th>CustomerID</th>\n",
       "      <th>InvoieNo</th>\n",
       "    </tr>\n",
       "  </thead>\n",
       "  <tbody>\n",
       "    <tr>\n",
       "      <th>0</th>\n",
       "      <td>2.0</td>\n",
       "      <td>182</td>\n",
       "    </tr>\n",
       "    <tr>\n",
       "      <th>1</th>\n",
       "      <td>3.0</td>\n",
       "      <td>27</td>\n",
       "    </tr>\n",
       "    <tr>\n",
       "      <th>2</th>\n",
       "      <td>4.0</td>\n",
       "      <td>72</td>\n",
       "    </tr>\n",
       "    <tr>\n",
       "      <th>3</th>\n",
       "      <td>5.0</td>\n",
       "      <td>16</td>\n",
       "    </tr>\n",
       "    <tr>\n",
       "      <th>4</th>\n",
       "      <td>6.0</td>\n",
       "      <td>77</td>\n",
       "    </tr>\n",
       "  </tbody>\n",
       "</table>\n",
       "</div>"
      ],
      "text/plain": [
       "   CustomerID  InvoieNo\n",
       "0         2.0       182\n",
       "1         3.0        27\n",
       "2         4.0        72\n",
       "3         5.0        16\n",
       "4         6.0        77"
      ]
     },
     "execution_count": 21,
     "metadata": {},
     "output_type": "execute_result"
    }
   ],
   "source": [
    "frequency = df.groupby('CustomerID')['InvoieNo'].count()\n",
    "frequency = frequency.reset_index()\n",
    "frequency.head()"
   ]
  },
  {
   "cell_type": "code",
   "execution_count": 22,
   "metadata": {},
   "outputs": [
    {
     "data": {
      "text/plain": [
       "1          0 days\n",
       "2          0 days\n",
       "3          0 days\n",
       "6          0 days\n",
       "7          0 days\n",
       "           ...   \n",
       "537914   352 days\n",
       "537915   352 days\n",
       "537947   363 days\n",
       "537948   363 days\n",
       "537949   367 days\n",
       "Name: duration, Length: 396006, dtype: timedelta64[ns]"
      ]
     },
     "execution_count": 22,
     "metadata": {},
     "output_type": "execute_result"
    }
   ],
   "source": [
    "df['Date of purchase'] = pd.to_datetime(df['Date of purchase'], format='%d-%m-%Y %H:%M')\n",
    "df['duration'] = df['Date of purchase'].max() - df['Date of purchase']\n",
    "df['duration']"
   ]
  },
  {
   "cell_type": "code",
   "execution_count": 23,
   "metadata": {},
   "outputs": [
    {
     "data": {
      "text/html": [
       "<div>\n",
       "<style scoped>\n",
       "    .dataframe tbody tr th:only-of-type {\n",
       "        vertical-align: middle;\n",
       "    }\n",
       "\n",
       "    .dataframe tbody tr th {\n",
       "        vertical-align: top;\n",
       "    }\n",
       "\n",
       "    .dataframe thead th {\n",
       "        text-align: right;\n",
       "    }\n",
       "</style>\n",
       "<table border=\"1\" class=\"dataframe\">\n",
       "  <thead>\n",
       "    <tr style=\"text-align: right;\">\n",
       "      <th></th>\n",
       "      <th>CustomerID</th>\n",
       "      <th>duration</th>\n",
       "    </tr>\n",
       "  </thead>\n",
       "  <tbody>\n",
       "    <tr>\n",
       "      <th>0</th>\n",
       "      <td>2.0</td>\n",
       "      <td>3 days</td>\n",
       "    </tr>\n",
       "    <tr>\n",
       "      <th>1</th>\n",
       "      <td>3.0</td>\n",
       "      <td>76 days</td>\n",
       "    </tr>\n",
       "    <tr>\n",
       "      <th>2</th>\n",
       "      <td>4.0</td>\n",
       "      <td>18 days</td>\n",
       "    </tr>\n",
       "    <tr>\n",
       "      <th>3</th>\n",
       "      <td>5.0</td>\n",
       "      <td>310 days</td>\n",
       "    </tr>\n",
       "    <tr>\n",
       "      <th>4</th>\n",
       "      <td>6.0</td>\n",
       "      <td>36 days</td>\n",
       "    </tr>\n",
       "  </tbody>\n",
       "</table>\n",
       "</div>"
      ],
      "text/plain": [
       "   CustomerID duration\n",
       "0         2.0   3 days\n",
       "1         3.0  76 days\n",
       "2         4.0  18 days\n",
       "3         5.0 310 days\n",
       "4         6.0  36 days"
      ]
     },
     "execution_count": 23,
     "metadata": {},
     "output_type": "execute_result"
    }
   ],
   "source": [
    "recency = df.groupby('CustomerID')['duration'].min()\n",
    "recency = recency.reset_index()\n",
    "recency.head()"
   ]
  },
  {
   "cell_type": "code",
   "execution_count": 24,
   "metadata": {},
   "outputs": [
    {
     "data": {
      "text/html": [
       "<div>\n",
       "<style scoped>\n",
       "    .dataframe tbody tr th:only-of-type {\n",
       "        vertical-align: middle;\n",
       "    }\n",
       "\n",
       "    .dataframe tbody tr th {\n",
       "        vertical-align: top;\n",
       "    }\n",
       "\n",
       "    .dataframe thead th {\n",
       "        text-align: right;\n",
       "    }\n",
       "</style>\n",
       "<table border=\"1\" class=\"dataframe\">\n",
       "  <thead>\n",
       "    <tr style=\"text-align: right;\">\n",
       "      <th></th>\n",
       "      <th>CustomerID</th>\n",
       "      <th>TotalAmount</th>\n",
       "      <th>frequency</th>\n",
       "      <th>recency</th>\n",
       "    </tr>\n",
       "  </thead>\n",
       "  <tbody>\n",
       "    <tr>\n",
       "      <th>0</th>\n",
       "      <td>2.0</td>\n",
       "      <td>553704.0</td>\n",
       "      <td>182</td>\n",
       "      <td>3</td>\n",
       "    </tr>\n",
       "    <tr>\n",
       "      <th>1</th>\n",
       "      <td>3.0</td>\n",
       "      <td>257404.0</td>\n",
       "      <td>27</td>\n",
       "      <td>76</td>\n",
       "    </tr>\n",
       "    <tr>\n",
       "      <th>2</th>\n",
       "      <td>4.0</td>\n",
       "      <td>176613.0</td>\n",
       "      <td>72</td>\n",
       "      <td>18</td>\n",
       "    </tr>\n",
       "    <tr>\n",
       "      <th>3</th>\n",
       "      <td>5.0</td>\n",
       "      <td>41976.0</td>\n",
       "      <td>16</td>\n",
       "      <td>310</td>\n",
       "    </tr>\n",
       "    <tr>\n",
       "      <th>4</th>\n",
       "      <td>6.0</td>\n",
       "      <td>166972.0</td>\n",
       "      <td>77</td>\n",
       "      <td>36</td>\n",
       "    </tr>\n",
       "  </tbody>\n",
       "</table>\n",
       "</div>"
      ],
      "text/plain": [
       "   CustomerID  TotalAmount  frequency  recency\n",
       "0         2.0     553704.0        182        3\n",
       "1         3.0     257404.0         27       76\n",
       "2         4.0     176613.0         72       18\n",
       "3         5.0      41976.0         16      310\n",
       "4         6.0     166972.0         77       36"
      ]
     },
     "execution_count": 24,
     "metadata": {},
     "output_type": "execute_result"
    }
   ],
   "source": [
    "#merging data\n",
    "rf = pd.merge(revenue_contributed, frequency, on='CustomerID', how='inner')\n",
    "rfm = pd.merge(rf, recency, on='CustomerID', how='inner')\n",
    "rfm.columns = ['CustomerID', 'TotalAmount', 'frequency', 'recency']\n",
    "rfm['recency'] = rfm['recency'].dt.days\n",
    "rfm.head()"
   ]
  },
  {
   "cell_type": "code",
   "execution_count": 25,
   "metadata": {},
   "outputs": [],
   "source": [
    "#Outlier treatment"
   ]
  },
  {
   "cell_type": "code",
   "execution_count": 26,
   "metadata": {},
   "outputs": [
    {
     "data": {
      "image/png": "[encoded data removed]",
      "text/plain": [
       "<Figure size 432x288 with 1 Axes>"
      ]
     },
     "metadata": {
      "needs_background": "light"
     },
     "output_type": "display_data"
    },
    {
     "data": {
      "image/png": "[encoded data removed]",
      "text/plain": [
       "<Figure size 432x288 with 1 Axes>"
      ]
     },
     "metadata": {
      "needs_background": "light"
     },
     "output_type": "display_data"
    },
    {
     "data": {
      "image/png": "[encoded data removed]",
      "text/plain": [
       "<Figure size 432x288 with 1 Axes>"
      ]
     },
     "metadata": {
      "needs_background": "light"
     },
     "output_type": "display_data"
    }
   ],
   "source": [
    "plt.boxplot(rfm['TotalAmount'])\n",
    "plt.show()\n",
    "plt.boxplot(rfm['frequency'])\n",
    "plt.show()\n",
    "plt.boxplot(rfm['recency'])\n",
    "plt.show()"
   ]
  },
  {
   "cell_type": "markdown",
   "metadata": {},
   "source": [
    "#Descriptive Statistics (Recency)\n",
    "rfm.recency.describe()"
   ]
  },
  {
   "cell_type": "code",
   "execution_count": 27,
   "metadata": {},
   "outputs": [
    {
     "name": "stderr",
     "output_type": "stream",
     "text": [
      "C:\\Users\\ARNAV\\anaconda3\\lib\\site-packages\\seaborn\\distributions.py:2551: FutureWarning: `distplot` is a deprecated function and will be removed in a future version. Please adapt your code to use either `displot` (a figure-level function with similar flexibility) or `histplot` (an axes-level function for histograms).\n",
      "  warnings.warn(msg, FutureWarning)\n"
     ]
    },
    {
     "data": {
      "image/png": "[encoded data removed]",
      "text/plain": [
       "<Figure size 432x288 with 1 Axes>"
      ]
     },
     "metadata": {
      "needs_background": "light"
     },
     "output_type": "display_data"
    }
   ],
   "source": [
    "#Recency distribution plot\n",
    "import seaborn as sns\n",
    "x = rfm['recency']\n",
    "\n",
    "ax = sns.distplot(x)"
   ]
  },
  {
   "cell_type": "code",
   "execution_count": 28,
   "metadata": {},
   "outputs": [
    {
     "data": {
      "text/plain": [
       "count    4324.000000\n",
       "mean       91.583256\n",
       "std       228.626074\n",
       "min         1.000000\n",
       "25%        17.000000\n",
       "50%        41.000000\n",
       "75%       100.000000\n",
       "max      7838.000000\n",
       "Name: frequency, dtype: float64"
      ]
     },
     "execution_count": 28,
     "metadata": {},
     "output_type": "execute_result"
    }
   ],
   "source": [
    "#Descriptive Statistics (Frequency)\n",
    "rfm.frequency.describe()"
   ]
  },
  {
   "cell_type": "code",
   "execution_count": 29,
   "metadata": {},
   "outputs": [
    {
     "name": "stderr",
     "output_type": "stream",
     "text": [
      "C:\\Users\\ARNAV\\anaconda3\\lib\\site-packages\\seaborn\\distributions.py:2551: FutureWarning: `distplot` is a deprecated function and will be removed in a future version. Please adapt your code to use either `displot` (a figure-level function with similar flexibility) or `histplot` (an axes-level function for histograms).\n",
      "  warnings.warn(msg, FutureWarning)\n"
     ]
    },
    {
     "data": {
      "image/png": "[encoded data removed]",
      "text/plain": [
       "<Figure size 432x288 with 1 Axes>"
      ]
     },
     "metadata": {
      "needs_background": "light"
     },
     "output_type": "display_data"
    }
   ],
   "source": [
    "#Frequency distribution plot, taking observations which have frequency less than 1000\n",
    "import seaborn as sns\n",
    "x = rfm.query('frequency < 1000')['frequency']\n",
    "\n",
    "ax = sns.distplot(x)"
   ]
  },
  {
   "cell_type": "code",
   "execution_count": 30,
   "metadata": {},
   "outputs": [
    {
     "data": {
      "text/plain": [
       "count    4.324000e+03\n",
       "mean     2.339858e+05\n",
       "std      8.636671e+05\n",
       "min      3.880000e+02\n",
       "25%      3.928800e+04\n",
       "50%      8.614700e+04\n",
       "75%      2.108338e+05\n",
       "max      3.553619e+07\n",
       "Name: TotalAmount, dtype: float64"
      ]
     },
     "execution_count": 30,
     "metadata": {},
     "output_type": "execute_result"
    }
   ],
   "source": [
    "#Descriptive Statistics (Monetary)\n",
    "rfm.TotalAmount.describe()"
   ]
  },
  {
   "cell_type": "code",
   "execution_count": 31,
   "metadata": {},
   "outputs": [
    {
     "name": "stderr",
     "output_type": "stream",
     "text": [
      "C:\\Users\\ARNAV\\anaconda3\\lib\\site-packages\\seaborn\\distributions.py:2551: FutureWarning: `distplot` is a deprecated function and will be removed in a future version. Please adapt your code to use either `displot` (a figure-level function with similar flexibility) or `histplot` (an axes-level function for histograms).\n",
      "  warnings.warn(msg, FutureWarning)\n"
     ]
    },
    {
     "data": {
      "image/png": "[encoded data removed]",
      "text/plain": [
       "<Figure size 432x288 with 1 Axes>"
      ]
     },
     "metadata": {
      "needs_background": "light"
     },
     "output_type": "display_data"
    }
   ],
   "source": [
    "#Monateray distribution plot, taking observations which have monetary value less than 10000\n",
    "import seaborn as sns\n",
    "x = rfm.query('TotalAmount < 10000')['TotalAmount']\n",
    "\n",
    "ax = sns.distplot(x)"
   ]
  },
  {
   "cell_type": "code",
   "execution_count": 32,
   "metadata": {},
   "outputs": [],
   "source": [
    "#Split into four segments using quantiles\n",
    "quantiles = rfm.quantile(q=[0.25,0.5,0.75])\n",
    "quantiles = quantiles.to_dict()"
   ]
  },
  {
   "cell_type": "code",
   "execution_count": 33,
   "metadata": {},
   "outputs": [
    {
     "data": {
      "text/plain": [
       "{'CustomerID': {0.25: 1092.75, 0.5: 2182.5, 0.75: 3279.25},\n",
       " 'TotalAmount': {0.25: 39288.0, 0.5: 86147.0, 0.75: 210833.75},\n",
       " 'frequency': {0.25: 17.0, 0.5: 41.0, 0.75: 100.0},\n",
       " 'recency': {0.25: 18.0, 0.5: 51.0, 0.75: 142.25}}"
      ]
     },
     "execution_count": 33,
     "metadata": {},
     "output_type": "execute_result"
    }
   ],
   "source": [
    "quantiles"
   ]
  },
  {
   "cell_type": "code",
   "execution_count": 34,
   "metadata": {},
   "outputs": [],
   "source": [
    "#Functions to create R, F and M segments\n",
    "def RScoring(x,p,d):\n",
    "    if x <= d[p][0.25]:\n",
    "        return 1\n",
    "    elif x <= d[p][0.50]:\n",
    "        return 2\n",
    "    elif x <= d[p][0.75]: \n",
    "        return 3\n",
    "    else:\n",
    "        return 4\n",
    "    \n",
    "def FnMScoring(x,p,d):\n",
    "    if x <= d[p][0.25]:\n",
    "        return 4\n",
    "    elif x <= d[p][0.50]:\n",
    "        return 3\n",
    "    elif x <= d[p][0.75]: \n",
    "        return 2\n",
    "    else:\n",
    "        return 1"
   ]
  },
  {
   "cell_type": "code",
   "execution_count": 35,
   "metadata": {},
   "outputs": [
    {
     "data": {
      "text/html": [
       "<div>\n",
       "<style scoped>\n",
       "    .dataframe tbody tr th:only-of-type {\n",
       "        vertical-align: middle;\n",
       "    }\n",
       "\n",
       "    .dataframe tbody tr th {\n",
       "        vertical-align: top;\n",
       "    }\n",
       "\n",
       "    .dataframe thead th {\n",
       "        text-align: right;\n",
       "    }\n",
       "</style>\n",
       "<table border=\"1\" class=\"dataframe\">\n",
       "  <thead>\n",
       "    <tr style=\"text-align: right;\">\n",
       "      <th></th>\n",
       "      <th>CustomerID</th>\n",
       "      <th>TotalAmount</th>\n",
       "      <th>frequency</th>\n",
       "      <th>recency</th>\n",
       "      <th>R</th>\n",
       "      <th>F</th>\n",
       "      <th>M</th>\n",
       "    </tr>\n",
       "  </thead>\n",
       "  <tbody>\n",
       "    <tr>\n",
       "      <th>0</th>\n",
       "      <td>2.0</td>\n",
       "      <td>553704.0</td>\n",
       "      <td>182</td>\n",
       "      <td>3</td>\n",
       "      <td>1</td>\n",
       "      <td>1</td>\n",
       "      <td>1</td>\n",
       "    </tr>\n",
       "    <tr>\n",
       "      <th>1</th>\n",
       "      <td>3.0</td>\n",
       "      <td>257404.0</td>\n",
       "      <td>27</td>\n",
       "      <td>76</td>\n",
       "      <td>3</td>\n",
       "      <td>3</td>\n",
       "      <td>1</td>\n",
       "    </tr>\n",
       "    <tr>\n",
       "      <th>2</th>\n",
       "      <td>4.0</td>\n",
       "      <td>176613.0</td>\n",
       "      <td>72</td>\n",
       "      <td>18</td>\n",
       "      <td>1</td>\n",
       "      <td>2</td>\n",
       "      <td>2</td>\n",
       "    </tr>\n",
       "    <tr>\n",
       "      <th>3</th>\n",
       "      <td>5.0</td>\n",
       "      <td>41976.0</td>\n",
       "      <td>16</td>\n",
       "      <td>310</td>\n",
       "      <td>4</td>\n",
       "      <td>4</td>\n",
       "      <td>3</td>\n",
       "    </tr>\n",
       "    <tr>\n",
       "      <th>4</th>\n",
       "      <td>6.0</td>\n",
       "      <td>166972.0</td>\n",
       "      <td>77</td>\n",
       "      <td>36</td>\n",
       "      <td>2</td>\n",
       "      <td>2</td>\n",
       "      <td>2</td>\n",
       "    </tr>\n",
       "  </tbody>\n",
       "</table>\n",
       "</div>"
      ],
      "text/plain": [
       "   CustomerID  TotalAmount  frequency  recency  R  F  M\n",
       "0         2.0     553704.0        182        3  1  1  1\n",
       "1         3.0     257404.0         27       76  3  3  1\n",
       "2         4.0     176613.0         72       18  1  2  2\n",
       "3         5.0      41976.0         16      310  4  4  3\n",
       "4         6.0     166972.0         77       36  2  2  2"
      ]
     },
     "execution_count": 35,
     "metadata": {},
     "output_type": "execute_result"
    }
   ],
   "source": [
    "#Calculate Add R, F and M segment value columns in the existing dataset to show R, F and M segment values\n",
    "rfm['R'] = rfm['recency'].apply(RScoring, args=('recency',quantiles,))\n",
    "rfm['F'] = rfm['frequency'].apply(FnMScoring, args=('frequency',quantiles,))\n",
    "rfm['M'] = rfm['TotalAmount'].apply(FnMScoring, args=('TotalAmount',quantiles,))\n",
    "rfm.head()"
   ]
  },
  {
   "cell_type": "code",
   "execution_count": 36,
   "metadata": {},
   "outputs": [
    {
     "data": {
      "text/html": [
       "<div>\n",
       "<style scoped>\n",
       "    .dataframe tbody tr th:only-of-type {\n",
       "        vertical-align: middle;\n",
       "    }\n",
       "\n",
       "    .dataframe tbody tr th {\n",
       "        vertical-align: top;\n",
       "    }\n",
       "\n",
       "    .dataframe thead th {\n",
       "        text-align: right;\n",
       "    }\n",
       "</style>\n",
       "<table border=\"1\" class=\"dataframe\">\n",
       "  <thead>\n",
       "    <tr style=\"text-align: right;\">\n",
       "      <th></th>\n",
       "      <th>CustomerID</th>\n",
       "      <th>TotalAmount</th>\n",
       "      <th>frequency</th>\n",
       "      <th>recency</th>\n",
       "      <th>R</th>\n",
       "      <th>F</th>\n",
       "      <th>M</th>\n",
       "      <th>RFMGroup</th>\n",
       "      <th>RFMScore</th>\n",
       "    </tr>\n",
       "  </thead>\n",
       "  <tbody>\n",
       "    <tr>\n",
       "      <th>0</th>\n",
       "      <td>2.0</td>\n",
       "      <td>553704.0</td>\n",
       "      <td>182</td>\n",
       "      <td>3</td>\n",
       "      <td>1</td>\n",
       "      <td>1</td>\n",
       "      <td>1</td>\n",
       "      <td>111</td>\n",
       "      <td>3</td>\n",
       "    </tr>\n",
       "    <tr>\n",
       "      <th>1</th>\n",
       "      <td>3.0</td>\n",
       "      <td>257404.0</td>\n",
       "      <td>27</td>\n",
       "      <td>76</td>\n",
       "      <td>3</td>\n",
       "      <td>3</td>\n",
       "      <td>1</td>\n",
       "      <td>331</td>\n",
       "      <td>7</td>\n",
       "    </tr>\n",
       "    <tr>\n",
       "      <th>2</th>\n",
       "      <td>4.0</td>\n",
       "      <td>176613.0</td>\n",
       "      <td>72</td>\n",
       "      <td>18</td>\n",
       "      <td>1</td>\n",
       "      <td>2</td>\n",
       "      <td>2</td>\n",
       "      <td>122</td>\n",
       "      <td>5</td>\n",
       "    </tr>\n",
       "    <tr>\n",
       "      <th>3</th>\n",
       "      <td>5.0</td>\n",
       "      <td>41976.0</td>\n",
       "      <td>16</td>\n",
       "      <td>310</td>\n",
       "      <td>4</td>\n",
       "      <td>4</td>\n",
       "      <td>3</td>\n",
       "      <td>443</td>\n",
       "      <td>11</td>\n",
       "    </tr>\n",
       "    <tr>\n",
       "      <th>4</th>\n",
       "      <td>6.0</td>\n",
       "      <td>166972.0</td>\n",
       "      <td>77</td>\n",
       "      <td>36</td>\n",
       "      <td>2</td>\n",
       "      <td>2</td>\n",
       "      <td>2</td>\n",
       "      <td>222</td>\n",
       "      <td>6</td>\n",
       "    </tr>\n",
       "  </tbody>\n",
       "</table>\n",
       "</div>"
      ],
      "text/plain": [
       "   CustomerID  TotalAmount  frequency  recency  R  F  M RFMGroup  RFMScore\n",
       "0         2.0     553704.0        182        3  1  1  1      111         3\n",
       "1         3.0     257404.0         27       76  3  3  1      331         7\n",
       "2         4.0     176613.0         72       18  1  2  2      122         5\n",
       "3         5.0      41976.0         16      310  4  4  3      443        11\n",
       "4         6.0     166972.0         77       36  2  2  2      222         6"
      ]
     },
     "execution_count": 36,
     "metadata": {},
     "output_type": "execute_result"
    }
   ],
   "source": [
    "#Calculate and Add RFMGroup value column showing combined concatenated score of RFM\n",
    "rfm['RFMGroup'] = rfm.R.map(str) + rfm.F.map(str) + rfm.M.map(str)\n",
    "\n",
    "#Calculate and Add RFMScore value column showing total sum of RFMGroup values\n",
    "rfm['RFMScore'] = rfm[['R', 'F', 'M']].sum(axis = 1)\n",
    "rfm.head()"
   ]
  },
  {
   "cell_type": "code",
   "execution_count": 37,
   "metadata": {},
   "outputs": [
    {
     "data": {
      "text/plain": [
       "'C:\\\\Users\\\\ARNAV'"
      ]
     },
     "execution_count": 37,
     "metadata": {},
     "output_type": "execute_result"
    }
   ],
   "source": [
    "import os\n",
    "os.getcwd()"
   ]
  },
  {
   "cell_type": "code",
   "execution_count": 38,
   "metadata": {},
   "outputs": [],
   "source": [
    "rfm.to_excel('C:/Users/ARNAV/rfm.xls')"
   ]
  },
  {
   "cell_type": "code",
   "execution_count": 39,
   "metadata": {},
   "outputs": [
    {
     "data": {
      "text/plain": [
       "(4324, 9)"
      ]
     },
     "execution_count": 39,
     "metadata": {},
     "output_type": "execute_result"
    }
   ],
   "source": [
    "rfm.shape"
   ]
  },
  {
   "cell_type": "code",
   "execution_count": 40,
   "metadata": {},
   "outputs": [
    {
     "data": {
      "text/plain": [
       "(396006, 11)"
      ]
     },
     "execution_count": 40,
     "metadata": {},
     "output_type": "execute_result"
    }
   ],
   "source": [
    "df.shape"
   ]
  },
  {
   "cell_type": "code",
   "execution_count": null,
   "metadata": {},
   "outputs": [],
   "source": [
    "#K-Means Clustering "
   ]
  },
  {
   "cell_type": "code",
   "execution_count": 42,
   "metadata": {},
   "outputs": [],
   "source": [
    "#Handle negative and zero values so as to handle infinite numbers during log transformation\n",
    "def handle_neg_n_zero(num):\n",
    "    if num <= 0:\n",
    "        return 1\n",
    "    else:\n",
    "        return num\n",
    "#Apply handle_neg_n_zero function to Recency and Monetary columns \n",
    "rfm['recency'] = [handle_neg_n_zero(x) for x in rfm.recency]\n",
    "rfm['TotalAmount'] = [handle_neg_n_zero(x) for x in rfm.TotalAmount]\n",
    "\n",
    "#Perform Log transformation to bring data into normal or near normal distribution\n",
    "Log_Tfd_Data = rfm[['recency', 'frequency', 'TotalAmount']].apply(np.log, axis = 1).round(3)"
   ]
  },
  {
   "cell_type": "code",
   "execution_count": 43,
   "metadata": {},
   "outputs": [
    {
     "name": "stderr",
     "output_type": "stream",
     "text": [
      "C:\\Users\\ARNAV\\anaconda3\\lib\\site-packages\\seaborn\\distributions.py:2551: FutureWarning: `distplot` is a deprecated function and will be removed in a future version. Please adapt your code to use either `displot` (a figure-level function with similar flexibility) or `histplot` (an axes-level function for histograms).\n",
      "  warnings.warn(msg, FutureWarning)\n"
     ]
    },
    {
     "data": {
      "image/png": "[encoded data removed]",
      "text/plain": [
       "<Figure size 432x288 with 1 Axes>"
      ]
     },
     "metadata": {
      "needs_background": "light"
     },
     "output_type": "display_data"
    }
   ],
   "source": [
    "#Data distribution after data normalization for Recency\n",
    "recency_Plot = Log_Tfd_Data['recency']\n",
    "ax = sns.distplot(recency_Plot)\n"
   ]
  },
  {
   "cell_type": "code",
   "execution_count": 44,
   "metadata": {},
   "outputs": [
    {
     "name": "stderr",
     "output_type": "stream",
     "text": [
      "C:\\Users\\ARNAV\\anaconda3\\lib\\site-packages\\seaborn\\distributions.py:2551: FutureWarning: `distplot` is a deprecated function and will be removed in a future version. Please adapt your code to use either `displot` (a figure-level function with similar flexibility) or `histplot` (an axes-level function for histograms).\n",
      "  warnings.warn(msg, FutureWarning)\n"
     ]
    },
    {
     "data": {
      "image/png": "[encoded data removed]",
      "text/plain": [
       "<Figure size 432x288 with 1 Axes>"
      ]
     },
     "metadata": {
      "needs_background": "light"
     },
     "output_type": "display_data"
    }
   ],
   "source": [
    "#Data distribution after data normalization for Frequency\n",
    "frequency_Plot = Log_Tfd_Data.query('frequency < 1000')['frequency']\n",
    "ax = sns.distplot(frequency_Plot)"
   ]
  },
  {
   "cell_type": "code",
   "execution_count": 45,
   "metadata": {},
   "outputs": [
    {
     "name": "stderr",
     "output_type": "stream",
     "text": [
      "C:\\Users\\ARNAV\\anaconda3\\lib\\site-packages\\seaborn\\distributions.py:2551: FutureWarning: `distplot` is a deprecated function and will be removed in a future version. Please adapt your code to use either `displot` (a figure-level function with similar flexibility) or `histplot` (an axes-level function for histograms).\n",
      "  warnings.warn(msg, FutureWarning)\n"
     ]
    },
    {
     "data": {
      "image/png": "[encoded data removed]",
      "text/plain": [
       "<Figure size 432x288 with 1 Axes>"
      ]
     },
     "metadata": {
      "needs_background": "light"
     },
     "output_type": "display_data"
    }
   ],
   "source": [
    "#Data distribution after data normalization for Monetary\n",
    "TotalAmount_Plot = Log_Tfd_Data.query('TotalAmount < 10000')['TotalAmount']\n",
    "ax = sns.distplot(TotalAmount_Plot)"
   ]
  },
  {
   "cell_type": "code",
   "execution_count": 46,
   "metadata": {},
   "outputs": [],
   "source": [
    "from sklearn.preprocessing import StandardScaler\n",
    "\n",
    "#Bring the data on same scale\n",
    "scaleobj = StandardScaler()\n",
    "Scaled_Data = scaleobj.fit_transform(Log_Tfd_Data)\n",
    "\n",
    "#Transform it back to dataframe\n",
    "Scaled_Data = pd.DataFrame(Scaled_Data, index = rfm.index, columns = Log_Tfd_Data.columns)"
   ]
  },
  {
   "cell_type": "code",
   "execution_count": 47,
   "metadata": {},
   "outputs": [
    {
     "data": {
      "image/png": "[encoded data removed]",
      "text/plain": [
       "<Figure size 432x288 with 1 Axes>"
      ]
     },
     "metadata": {
      "needs_background": "light"
     },
     "output_type": "display_data"
    }
   ],
   "source": [
    "from sklearn.cluster import KMeans\n",
    "\n",
    "sum_of_sq_dist = {}\n",
    "for k in range(1,15):\n",
    "    km = KMeans(n_clusters= k, init= 'k-means++', max_iter= 1000)\n",
    "    km = km.fit(Scaled_Data)\n",
    "    sum_of_sq_dist[k] = km.inertia_\n",
    "    \n",
    "#Plot the graph for the sum of square distance values and Number of Clusters\n",
    "sns.pointplot(x = list(sum_of_sq_dist.keys()), y = list(sum_of_sq_dist.values()))\n",
    "plt.xlabel('Number of Clusters(k)')\n",
    "plt.ylabel('Sum of Square Distances')\n",
    "plt.title('Elbow Method For Optimal k')\n",
    "plt.show()"
   ]
  },
  {
   "cell_type": "code",
   "execution_count": 50,
   "metadata": {},
   "outputs": [
    {
     "data": {
      "text/html": [
       "<div>\n",
       "<style scoped>\n",
       "    .dataframe tbody tr th:only-of-type {\n",
       "        vertical-align: middle;\n",
       "    }\n",
       "\n",
       "    .dataframe tbody tr th {\n",
       "        vertical-align: top;\n",
       "    }\n",
       "\n",
       "    .dataframe thead th {\n",
       "        text-align: right;\n",
       "    }\n",
       "</style>\n",
       "<table border=\"1\" class=\"dataframe\">\n",
       "  <thead>\n",
       "    <tr style=\"text-align: right;\">\n",
       "      <th></th>\n",
       "      <th>CustomerID</th>\n",
       "      <th>TotalAmount</th>\n",
       "      <th>frequency</th>\n",
       "      <th>recency</th>\n",
       "      <th>R</th>\n",
       "      <th>F</th>\n",
       "      <th>M</th>\n",
       "      <th>RFMGroup</th>\n",
       "      <th>RFMScore</th>\n",
       "      <th>Cluster</th>\n",
       "    </tr>\n",
       "  </thead>\n",
       "  <tbody>\n",
       "    <tr>\n",
       "      <th>0</th>\n",
       "      <td>2.0</td>\n",
       "      <td>553704.0</td>\n",
       "      <td>182</td>\n",
       "      <td>3</td>\n",
       "      <td>1</td>\n",
       "      <td>1</td>\n",
       "      <td>1</td>\n",
       "      <td>111</td>\n",
       "      <td>3</td>\n",
       "      <td>2</td>\n",
       "    </tr>\n",
       "    <tr>\n",
       "      <th>1</th>\n",
       "      <td>3.0</td>\n",
       "      <td>257404.0</td>\n",
       "      <td>27</td>\n",
       "      <td>76</td>\n",
       "      <td>3</td>\n",
       "      <td>3</td>\n",
       "      <td>1</td>\n",
       "      <td>331</td>\n",
       "      <td>7</td>\n",
       "      <td>0</td>\n",
       "    </tr>\n",
       "    <tr>\n",
       "      <th>2</th>\n",
       "      <td>4.0</td>\n",
       "      <td>176613.0</td>\n",
       "      <td>72</td>\n",
       "      <td>18</td>\n",
       "      <td>1</td>\n",
       "      <td>2</td>\n",
       "      <td>2</td>\n",
       "      <td>122</td>\n",
       "      <td>5</td>\n",
       "      <td>0</td>\n",
       "    </tr>\n",
       "    <tr>\n",
       "      <th>3</th>\n",
       "      <td>5.0</td>\n",
       "      <td>41976.0</td>\n",
       "      <td>16</td>\n",
       "      <td>310</td>\n",
       "      <td>4</td>\n",
       "      <td>4</td>\n",
       "      <td>3</td>\n",
       "      <td>443</td>\n",
       "      <td>11</td>\n",
       "      <td>1</td>\n",
       "    </tr>\n",
       "    <tr>\n",
       "      <th>4</th>\n",
       "      <td>6.0</td>\n",
       "      <td>166972.0</td>\n",
       "      <td>77</td>\n",
       "      <td>36</td>\n",
       "      <td>2</td>\n",
       "      <td>2</td>\n",
       "      <td>2</td>\n",
       "      <td>222</td>\n",
       "      <td>6</td>\n",
       "      <td>0</td>\n",
       "    </tr>\n",
       "  </tbody>\n",
       "</table>\n",
       "</div>"
      ],
      "text/plain": [
       "   CustomerID  TotalAmount  frequency  recency  R  F  M RFMGroup  RFMScore  \\\n",
       "0         2.0     553704.0        182        3  1  1  1      111         3   \n",
       "1         3.0     257404.0         27       76  3  3  1      331         7   \n",
       "2         4.0     176613.0         72       18  1  2  2      122         5   \n",
       "3         5.0      41976.0         16      310  4  4  3      443        11   \n",
       "4         6.0     166972.0         77       36  2  2  2      222         6   \n",
       "\n",
       "   Cluster  \n",
       "0        2  \n",
       "1        0  \n",
       "2        0  \n",
       "3        1  \n",
       "4        0  "
      ]
     },
     "execution_count": 50,
     "metadata": {},
     "output_type": "execute_result"
    }
   ],
   "source": [
    "#Perform K-Mean Clustering or build the K-Means clustering model\n",
    "KMean_clust = KMeans(n_clusters= 3, init= 'k-means++', max_iter= 1000)\n",
    "KMean_clust.fit(Scaled_Data)\n",
    "\n",
    "#Find the clusters for the observation given in the dataset\n",
    "rfm['Cluster'] = KMean_clust.labels_\n",
    "rfm.head()"
   ]
  },
  {
   "cell_type": "code",
   "execution_count": null,
   "metadata": {},
   "outputs": [],
   "source": []
  },
  {
   "cell_type": "code",
   "execution_count": null,
   "metadata": {},
   "outputs": [],
   "source": []
  },
  {
   "cell_type": "code",
   "execution_count": 51,
   "metadata": {},
   "outputs": [
    {
     "data": {
      "text/plain": [
       "<Figure size 504x504 with 0 Axes>"
      ]
     },
     "metadata": {},
     "output_type": "display_data"
    },
    {
     "data": {
      "image/png": "[encoded data removed]",
      "text/plain": [
       "<Figure size 720x576 with 1 Axes>"
      ]
     },
     "metadata": {
      "needs_background": "light"
     },
     "output_type": "display_data"
    }
   ],
   "source": [
    "from matplotlib import pyplot as plt\n",
    "plt.figure(figsize=(7,7))\n",
    "\n",
    "##Scatter Plot Frequency Vs Recency\n",
    "Colors = [\"red\", \"green\", \"blue\"]\n",
    "rfm['Color'] = rfm['Cluster'].map(lambda p: Colors[p])\n",
    "ax = rfm.plot(    \n",
    "    kind=\"scatter\", \n",
    "    x=\"recency\", y=\"frequency\",\n",
    "    figsize=(10,8),\n",
    "    c = rfm['Color']\n",
    ")"
   ]
  },
  {
   "cell_type": "code",
   "execution_count": 52,
   "metadata": {},
   "outputs": [
    {
     "data": {
      "text/html": [
       "<div>\n",
       "<style scoped>\n",
       "    .dataframe tbody tr th:only-of-type {\n",
       "        vertical-align: middle;\n",
       "    }\n",
       "\n",
       "    .dataframe tbody tr th {\n",
       "        vertical-align: top;\n",
       "    }\n",
       "\n",
       "    .dataframe thead th {\n",
       "        text-align: right;\n",
       "    }\n",
       "</style>\n",
       "<table border=\"1\" class=\"dataframe\">\n",
       "  <thead>\n",
       "    <tr style=\"text-align: right;\">\n",
       "      <th></th>\n",
       "      <th>CustomerID</th>\n",
       "      <th>TotalAmount</th>\n",
       "      <th>frequency</th>\n",
       "      <th>recency</th>\n",
       "      <th>R</th>\n",
       "      <th>F</th>\n",
       "      <th>M</th>\n",
       "      <th>RFMGroup</th>\n",
       "      <th>RFMScore</th>\n",
       "      <th>Cluster</th>\n",
       "      <th>Color</th>\n",
       "    </tr>\n",
       "  </thead>\n",
       "  <tbody>\n",
       "    <tr>\n",
       "      <th>0</th>\n",
       "      <td>2.0</td>\n",
       "      <td>553704.0</td>\n",
       "      <td>182</td>\n",
       "      <td>3</td>\n",
       "      <td>1</td>\n",
       "      <td>1</td>\n",
       "      <td>1</td>\n",
       "      <td>111</td>\n",
       "      <td>3</td>\n",
       "      <td>2</td>\n",
       "      <td>blue</td>\n",
       "    </tr>\n",
       "    <tr>\n",
       "      <th>1</th>\n",
       "      <td>3.0</td>\n",
       "      <td>257404.0</td>\n",
       "      <td>27</td>\n",
       "      <td>76</td>\n",
       "      <td>3</td>\n",
       "      <td>3</td>\n",
       "      <td>1</td>\n",
       "      <td>331</td>\n",
       "      <td>7</td>\n",
       "      <td>0</td>\n",
       "      <td>red</td>\n",
       "    </tr>\n",
       "    <tr>\n",
       "      <th>2</th>\n",
       "      <td>4.0</td>\n",
       "      <td>176613.0</td>\n",
       "      <td>72</td>\n",
       "      <td>18</td>\n",
       "      <td>1</td>\n",
       "      <td>2</td>\n",
       "      <td>2</td>\n",
       "      <td>122</td>\n",
       "      <td>5</td>\n",
       "      <td>0</td>\n",
       "      <td>red</td>\n",
       "    </tr>\n",
       "    <tr>\n",
       "      <th>3</th>\n",
       "      <td>5.0</td>\n",
       "      <td>41976.0</td>\n",
       "      <td>16</td>\n",
       "      <td>310</td>\n",
       "      <td>4</td>\n",
       "      <td>4</td>\n",
       "      <td>3</td>\n",
       "      <td>443</td>\n",
       "      <td>11</td>\n",
       "      <td>1</td>\n",
       "      <td>green</td>\n",
       "    </tr>\n",
       "    <tr>\n",
       "      <th>4</th>\n",
       "      <td>6.0</td>\n",
       "      <td>166972.0</td>\n",
       "      <td>77</td>\n",
       "      <td>36</td>\n",
       "      <td>2</td>\n",
       "      <td>2</td>\n",
       "      <td>2</td>\n",
       "      <td>222</td>\n",
       "      <td>6</td>\n",
       "      <td>0</td>\n",
       "      <td>red</td>\n",
       "    </tr>\n",
       "  </tbody>\n",
       "</table>\n",
       "</div>"
      ],
      "text/plain": [
       "   CustomerID  TotalAmount  frequency  recency  R  F  M RFMGroup  RFMScore  \\\n",
       "0         2.0     553704.0        182        3  1  1  1      111         3   \n",
       "1         3.0     257404.0         27       76  3  3  1      331         7   \n",
       "2         4.0     176613.0         72       18  1  2  2      122         5   \n",
       "3         5.0      41976.0         16      310  4  4  3      443        11   \n",
       "4         6.0     166972.0         77       36  2  2  2      222         6   \n",
       "\n",
       "   Cluster  Color  \n",
       "0        2   blue  \n",
       "1        0    red  \n",
       "2        0    red  \n",
       "3        1  green  \n",
       "4        0    red  "
      ]
     },
     "execution_count": 52,
     "metadata": {},
     "output_type": "execute_result"
    }
   ],
   "source": [
    "rfm.head()"
   ]
  },
  {
   "cell_type": "code",
   "execution_count": 55,
   "metadata": {},
   "outputs": [
    {
     "data": {
      "text/html": [
       "<div>\n",
       "<style scoped>\n",
       "    .dataframe tbody tr th:only-of-type {\n",
       "        vertical-align: middle;\n",
       "    }\n",
       "\n",
       "    .dataframe tbody tr th {\n",
       "        vertical-align: top;\n",
       "    }\n",
       "\n",
       "    .dataframe thead th {\n",
       "        text-align: right;\n",
       "    }\n",
       "</style>\n",
       "<table border=\"1\" class=\"dataframe\">\n",
       "  <thead>\n",
       "    <tr style=\"text-align: right;\">\n",
       "      <th></th>\n",
       "      <th>CustomerID</th>\n",
       "      <th>TotalAmount</th>\n",
       "      <th>frequency</th>\n",
       "      <th>recency</th>\n",
       "      <th>R</th>\n",
       "      <th>F</th>\n",
       "      <th>M</th>\n",
       "      <th>RFMGroup</th>\n",
       "      <th>RFMScore</th>\n",
       "      <th>Cluster</th>\n",
       "      <th>Color</th>\n",
       "    </tr>\n",
       "  </thead>\n",
       "  <tbody>\n",
       "    <tr>\n",
       "      <th>4319</th>\n",
       "      <td>4368.0</td>\n",
       "      <td>20480.0</td>\n",
       "      <td>10</td>\n",
       "      <td>277</td>\n",
       "      <td>4</td>\n",
       "      <td>4</td>\n",
       "      <td>4</td>\n",
       "      <td>444</td>\n",
       "      <td>12</td>\n",
       "      <td>1</td>\n",
       "      <td>green</td>\n",
       "    </tr>\n",
       "    <tr>\n",
       "      <th>4320</th>\n",
       "      <td>4369.0</td>\n",
       "      <td>10774.0</td>\n",
       "      <td>7</td>\n",
       "      <td>180</td>\n",
       "      <td>4</td>\n",
       "      <td>4</td>\n",
       "      <td>4</td>\n",
       "      <td>444</td>\n",
       "      <td>12</td>\n",
       "      <td>1</td>\n",
       "      <td>green</td>\n",
       "    </tr>\n",
       "    <tr>\n",
       "      <th>4321</th>\n",
       "      <td>4370.0</td>\n",
       "      <td>25177.0</td>\n",
       "      <td>12</td>\n",
       "      <td>8</td>\n",
       "      <td>1</td>\n",
       "      <td>4</td>\n",
       "      <td>4</td>\n",
       "      <td>144</td>\n",
       "      <td>9</td>\n",
       "      <td>1</td>\n",
       "      <td>green</td>\n",
       "    </tr>\n",
       "    <tr>\n",
       "      <th>4322</th>\n",
       "      <td>4371.0</td>\n",
       "      <td>280608.0</td>\n",
       "      <td>754</td>\n",
       "      <td>3</td>\n",
       "      <td>1</td>\n",
       "      <td>1</td>\n",
       "      <td>1</td>\n",
       "      <td>111</td>\n",
       "      <td>3</td>\n",
       "      <td>2</td>\n",
       "      <td>blue</td>\n",
       "    </tr>\n",
       "    <tr>\n",
       "      <th>4323</th>\n",
       "      <td>4372.0</td>\n",
       "      <td>262820.0</td>\n",
       "      <td>70</td>\n",
       "      <td>43</td>\n",
       "      <td>2</td>\n",
       "      <td>2</td>\n",
       "      <td>1</td>\n",
       "      <td>221</td>\n",
       "      <td>5</td>\n",
       "      <td>0</td>\n",
       "      <td>red</td>\n",
       "    </tr>\n",
       "  </tbody>\n",
       "</table>\n",
       "</div>"
      ],
      "text/plain": [
       "      CustomerID  TotalAmount  frequency  recency  R  F  M RFMGroup  RFMScore  \\\n",
       "4319      4368.0      20480.0         10      277  4  4  4      444        12   \n",
       "4320      4369.0      10774.0          7      180  4  4  4      444        12   \n",
       "4321      4370.0      25177.0         12        8  1  4  4      144         9   \n",
       "4322      4371.0     280608.0        754        3  1  1  1      111         3   \n",
       "4323      4372.0     262820.0         70       43  2  2  1      221         5   \n",
       "\n",
       "      Cluster  Color  \n",
       "4319        1  green  \n",
       "4320        1  green  \n",
       "4321        1  green  \n",
       "4322        2   blue  \n",
       "4323        0    red  "
      ]
     },
     "execution_count": 55,
     "metadata": {},
     "output_type": "execute_result"
    }
   ],
   "source": [
    "rfm.tail()"
   ]
  },
  {
   "cell_type": "code",
   "execution_count": null,
   "metadata": {},
   "outputs": [],
   "source": []
  }
 ],
 "metadata": {
  "kernelspec": {
   "display_name": "Python 3",
   "language": "python",
   "name": "python3"
  },
  "language_info": {
   "codemirror_mode": {
    "name": "ipython",
    "version": 3
   },
   "file_extension": ".py",
   "mimetype": "text/x-python",
   "name": "python",
   "nbconvert_exporter": "python",
   "pygments_lexer": "ipython3",
   "version": "3.8.5"
  }
 },
 "nbformat": 4,
 "nbformat_minor": 4
}
